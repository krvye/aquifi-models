{
 "cells": [
  {
   "cell_type": "markdown",
   "id": "beb5f7724d363ef2",
   "metadata": {
    "collapsed": false,
    "jupyter": {
     "outputs_hidden": false
    }
   },
   "source": [
    "# Tap Water Quality Forecasting"
   ]
  },
  {
   "cell_type": "markdown",
   "id": "ba447d03465df47f",
   "metadata": {
    "collapsed": false,
    "jupyter": {
     "outputs_hidden": false
    }
   },
   "source": [
    "## Import"
   ]
  },
  {
   "cell_type": "markdown",
   "id": "d7fd6cdeae0c33d8",
   "metadata": {
    "collapsed": false,
    "jupyter": {
     "outputs_hidden": false
    }
   },
   "source": [
    "### Libraries"
   ]
  },
  {
   "cell_type": "code",
   "execution_count": 1,
   "id": "initial_id",
   "metadata": {
    "ExecuteTime": {
     "end_time": "2024-02-17T07:30:02.827370700Z",
     "start_time": "2024-02-17T07:29:54.809787Z"
    }
   },
   "outputs": [],
   "source": [
    "import warnings\n",
    "\n",
    "import matplotlib.pyplot as plt\n",
    "import numpy as np\n",
    "import pandas as pd\n",
    "from keras.callbacks import EarlyStopping, ReduceLROnPlateau\n",
    "from keras.layers import SimpleRNN, Dense, Dropout\n",
    "from keras.models import Sequential\n",
    "from keras.regularizers import l2\n",
    "from sklearn.preprocessing import MinMaxScaler\n",
    "\n",
    "warnings.filterwarnings('ignore')"
   ]
  },
  {
   "cell_type": "markdown",
   "id": "52f7d8f18743951",
   "metadata": {
    "collapsed": false,
    "jupyter": {
     "outputs_hidden": false
    }
   },
   "source": [
    "### Dataset"
   ]
  },
  {
   "cell_type": "code",
   "execution_count": 2,
   "id": "41d5329eaf5246b1",
   "metadata": {
    "ExecuteTime": {
     "end_time": "2024-02-17T07:30:02.963542700Z",
     "start_time": "2024-02-17T07:30:02.830891100Z"
    },
    "collapsed": false,
    "jupyter": {
     "outputs_hidden": false
    }
   },
   "outputs": [
    {
     "data": {
      "text/html": [
       "<div>\n",
       "<style scoped>\n",
       "    .dataframe tbody tr th:only-of-type {\n",
       "        vertical-align: middle;\n",
       "    }\n",
       "\n",
       "    .dataframe tbody tr th {\n",
       "        vertical-align: top;\n",
       "    }\n",
       "\n",
       "    .dataframe thead th {\n",
       "        text-align: right;\n",
       "    }\n",
       "</style>\n",
       "<table border=\"1\" class=\"dataframe\">\n",
       "  <thead>\n",
       "    <tr style=\"text-align: right;\">\n",
       "      <th></th>\n",
       "      <th>pH</th>\n",
       "      <th>Turb</th>\n",
       "    </tr>\n",
       "    <tr>\n",
       "      <th>Time</th>\n",
       "      <th></th>\n",
       "      <th></th>\n",
       "    </tr>\n",
       "  </thead>\n",
       "  <tbody>\n",
       "    <tr>\n",
       "      <th>2017-07-01 00:00:00</th>\n",
       "      <td>8.60774</td>\n",
       "      <td>0.125931</td>\n",
       "    </tr>\n",
       "    <tr>\n",
       "      <th>2017-07-01 00:01:00</th>\n",
       "      <td>8.60589</td>\n",
       "      <td>0.127219</td>\n",
       "    </tr>\n",
       "    <tr>\n",
       "      <th>2017-07-01 00:02:00</th>\n",
       "      <td>8.60220</td>\n",
       "      <td>0.126482</td>\n",
       "    </tr>\n",
       "    <tr>\n",
       "      <th>2017-07-01 00:03:00</th>\n",
       "      <td>8.60220</td>\n",
       "      <td>0.126184</td>\n",
       "    </tr>\n",
       "    <tr>\n",
       "      <th>2017-07-01 00:04:00</th>\n",
       "      <td>8.60405</td>\n",
       "      <td>0.127908</td>\n",
       "    </tr>\n",
       "  </tbody>\n",
       "</table>\n",
       "</div>"
      ],
      "text/plain": [
       "                          pH      Turb\n",
       "Time                                  \n",
       "2017-07-01 00:00:00  8.60774  0.125931\n",
       "2017-07-01 00:01:00  8.60589  0.127219\n",
       "2017-07-01 00:02:00  8.60220  0.126482\n",
       "2017-07-01 00:03:00  8.60220  0.126184\n",
       "2017-07-01 00:04:00  8.60405  0.127908"
      ]
     },
     "execution_count": 2,
     "metadata": {},
     "output_type": "execute_result"
    }
   ],
   "source": [
    "filepath = \"../../gecco_2019_drinking_water_quality_dataset.csv\"\n",
    "raw_df = pd.read_csv(\n",
    "    filepath,\n",
    "    parse_dates=[\"Time\"],\n",
    "    index_col=\"Time\",\n",
    "    usecols=[\"Time\", \"pH\", \"Turb\"],\n",
    ")\n",
    "raw_df.head()"
   ]
  },
  {
   "cell_type": "markdown",
   "id": "b7bd267a2e8915af",
   "metadata": {
    "collapsed": false,
    "jupyter": {
     "outputs_hidden": false
    }
   },
   "source": [
    "## Preprocessing"
   ]
  },
  {
   "cell_type": "markdown",
   "id": "1e35c8a3df4fd61b",
   "metadata": {
    "collapsed": false,
    "jupyter": {
     "outputs_hidden": false
    }
   },
   "source": [
    "### Descriptive Analysis"
   ]
  },
  {
   "cell_type": "code",
   "execution_count": 3,
   "id": "9f4d0c507053ae3",
   "metadata": {
    "ExecuteTime": {
     "end_time": "2024-02-17T07:30:03.008293Z",
     "start_time": "2024-02-17T07:30:02.961543900Z"
    },
    "collapsed": false,
    "jupyter": {
     "outputs_hidden": false
    }
   },
   "outputs": [
    {
     "name": "stdout",
     "output_type": "stream",
     "text": [
      "<class 'pandas.core.frame.DataFrame'>\n",
      "DatetimeIndex: 132480 entries, 2017-07-01 00:00:00 to 2017-09-30 23:59:00\n",
      "Data columns (total 2 columns):\n",
      " #   Column  Non-Null Count   Dtype  \n",
      "---  ------  --------------   -----  \n",
      " 0   pH      132272 non-null  float64\n",
      " 1   Turb    132275 non-null  float64\n",
      "dtypes: float64(2)\n",
      "memory usage: 3.0 MB\n"
     ]
    }
   ],
   "source": [
    "raw_df.info()"
   ]
  },
  {
   "cell_type": "code",
   "execution_count": 4,
   "id": "16c96b492417325a",
   "metadata": {
    "ExecuteTime": {
     "end_time": "2024-02-17T07:30:03.121052500Z",
     "start_time": "2024-02-17T07:30:02.988174Z"
    },
    "collapsed": false,
    "jupyter": {
     "outputs_hidden": false
    }
   },
   "outputs": [
    {
     "data": {
      "text/html": [
       "<div>\n",
       "<style scoped>\n",
       "    .dataframe tbody tr th:only-of-type {\n",
       "        vertical-align: middle;\n",
       "    }\n",
       "\n",
       "    .dataframe tbody tr th {\n",
       "        vertical-align: top;\n",
       "    }\n",
       "\n",
       "    .dataframe thead th {\n",
       "        text-align: right;\n",
       "    }\n",
       "</style>\n",
       "<table border=\"1\" class=\"dataframe\">\n",
       "  <thead>\n",
       "    <tr style=\"text-align: right;\">\n",
       "      <th></th>\n",
       "      <th>pH</th>\n",
       "      <th>Turb</th>\n",
       "    </tr>\n",
       "  </thead>\n",
       "  <tbody>\n",
       "    <tr>\n",
       "      <th>count</th>\n",
       "      <td>132272.000000</td>\n",
       "      <td>132275.000000</td>\n",
       "    </tr>\n",
       "    <tr>\n",
       "      <th>mean</th>\n",
       "      <td>8.533168</td>\n",
       "      <td>0.128368</td>\n",
       "    </tr>\n",
       "    <tr>\n",
       "      <th>std</th>\n",
       "      <td>0.052646</td>\n",
       "      <td>0.005928</td>\n",
       "    </tr>\n",
       "    <tr>\n",
       "      <th>min</th>\n",
       "      <td>0.000000</td>\n",
       "      <td>0.000000</td>\n",
       "    </tr>\n",
       "    <tr>\n",
       "      <th>25%</th>\n",
       "      <td>8.502780</td>\n",
       "      <td>0.127160</td>\n",
       "    </tr>\n",
       "    <tr>\n",
       "      <th>50%</th>\n",
       "      <td>8.539630</td>\n",
       "      <td>0.127754</td>\n",
       "    </tr>\n",
       "    <tr>\n",
       "      <th>75%</th>\n",
       "      <td>8.563490</td>\n",
       "      <td>0.128686</td>\n",
       "    </tr>\n",
       "    <tr>\n",
       "      <th>max</th>\n",
       "      <td>8.666760</td>\n",
       "      <td>1.782850</td>\n",
       "    </tr>\n",
       "  </tbody>\n",
       "</table>\n",
       "</div>"
      ],
      "text/plain": [
       "                  pH           Turb\n",
       "count  132272.000000  132275.000000\n",
       "mean        8.533168       0.128368\n",
       "std         0.052646       0.005928\n",
       "min         0.000000       0.000000\n",
       "25%         8.502780       0.127160\n",
       "50%         8.539630       0.127754\n",
       "75%         8.563490       0.128686\n",
       "max         8.666760       1.782850"
      ]
     },
     "execution_count": 4,
     "metadata": {},
     "output_type": "execute_result"
    }
   ],
   "source": [
    "raw_df.describe()"
   ]
  },
  {
   "cell_type": "code",
   "execution_count": 5,
   "id": "f517678f1ab9d1e8",
   "metadata": {
    "ExecuteTime": {
     "end_time": "2024-02-17T07:30:03.589587700Z",
     "start_time": "2024-02-17T07:30:03.019636800Z"
    },
    "collapsed": false,
    "jupyter": {
     "outputs_hidden": false
    }
   },
   "outputs": [
    {
     "data": {
      "image/png": "[encoded data removed]",
      "text/plain": [
       "<Figure size 800x400 with 2 Axes>"
      ]
     },
     "metadata": {},
     "output_type": "display_data"
    }
   ],
   "source": [
    "ph = raw_df['pH']\n",
    "tb = raw_df['Turb']\n",
    "\n",
    "\n",
    "def line_plot(param, param1):\n",
    "    fig, axes = plt.subplots(1, 2, figsize=(8, 4))\n",
    "\n",
    "    axes[0].plot(param)\n",
    "    axes[0].set_title('pH Level')\n",
    "\n",
    "    axes[1].plot(param1)  # Example: Plotting the same data with a different color\n",
    "    axes[1].set_title('Turbidity Level')\n",
    "\n",
    "    plt.show()\n",
    "\n",
    "\n",
    "line_plot(ph, tb)"
   ]
  },
  {
   "cell_type": "code",
   "execution_count": 6,
   "id": "e06c65ed98c28add",
   "metadata": {
    "ExecuteTime": {
     "end_time": "2024-02-17T07:30:03.695063Z",
     "start_time": "2024-02-17T07:30:03.593595600Z"
    },
    "collapsed": false,
    "jupyter": {
     "outputs_hidden": false
    }
   },
   "outputs": [
    {
     "data": {
      "text/plain": [
       "pH      208\n",
       "Turb    205\n",
       "dtype: int64"
      ]
     },
     "execution_count": 6,
     "metadata": {},
     "output_type": "execute_result"
    }
   ],
   "source": [
    "raw_df.isnull().sum()"
   ]
  },
  {
   "cell_type": "code",
   "execution_count": 7,
   "id": "7f28782a",
   "metadata": {},
   "outputs": [],
   "source": [
    "interpolated_df = raw_df.interpolate(method='time')"
   ]
  },
  {
   "cell_type": "code",
   "execution_count": 8,
   "id": "44aca137",
   "metadata": {},
   "outputs": [
    {
     "data": {
      "text/plain": [
       "pH      0\n",
       "Turb    0\n",
       "dtype: int64"
      ]
     },
     "execution_count": 8,
     "metadata": {},
     "output_type": "execute_result"
    }
   ],
   "source": [
    "interpolated_df.isnull().sum()"
   ]
  },
  {
   "cell_type": "markdown",
   "id": "e7bb4084b4a8dea3",
   "metadata": {
    "collapsed": false,
    "jupyter": {
     "outputs_hidden": false
    }
   },
   "source": [
    "### Treating Outliers"
   ]
  },
  {
   "cell_type": "code",
   "execution_count": 9,
   "id": "ff17cd27e323f6fa",
   "metadata": {
    "ExecuteTime": {
     "end_time": "2024-02-17T07:30:03.697068900Z",
     "start_time": "2024-02-17T07:30:03.622529900Z"
    },
    "collapsed": false,
    "jupyter": {
     "outputs_hidden": false
    }
   },
   "outputs": [
    {
     "data": {
      "text/html": [
       "<div>\n",
       "<style scoped>\n",
       "    .dataframe tbody tr th:only-of-type {\n",
       "        vertical-align: middle;\n",
       "    }\n",
       "\n",
       "    .dataframe tbody tr th {\n",
       "        vertical-align: top;\n",
       "    }\n",
       "\n",
       "    .dataframe thead th {\n",
       "        text-align: right;\n",
       "    }\n",
       "</style>\n",
       "<table border=\"1\" class=\"dataframe\">\n",
       "  <thead>\n",
       "    <tr style=\"text-align: right;\">\n",
       "      <th></th>\n",
       "      <th>pH</th>\n",
       "      <th>Turb</th>\n",
       "    </tr>\n",
       "  </thead>\n",
       "  <tbody>\n",
       "    <tr>\n",
       "      <th>count</th>\n",
       "      <td>132360.000000</td>\n",
       "      <td>132360.000000</td>\n",
       "    </tr>\n",
       "    <tr>\n",
       "      <th>mean</th>\n",
       "      <td>8.533367</td>\n",
       "      <td>0.128357</td>\n",
       "    </tr>\n",
       "    <tr>\n",
       "      <th>std</th>\n",
       "      <td>0.040690</td>\n",
       "      <td>0.003767</td>\n",
       "    </tr>\n",
       "    <tr>\n",
       "      <th>min</th>\n",
       "      <td>8.411880</td>\n",
       "      <td>0.094232</td>\n",
       "    </tr>\n",
       "    <tr>\n",
       "      <th>25%</th>\n",
       "      <td>8.502780</td>\n",
       "      <td>0.127160</td>\n",
       "    </tr>\n",
       "    <tr>\n",
       "      <th>50%</th>\n",
       "      <td>8.539710</td>\n",
       "      <td>0.127753</td>\n",
       "    </tr>\n",
       "    <tr>\n",
       "      <th>75%</th>\n",
       "      <td>8.563490</td>\n",
       "      <td>0.128685</td>\n",
       "    </tr>\n",
       "    <tr>\n",
       "      <th>max</th>\n",
       "      <td>8.653850</td>\n",
       "      <td>0.784440</td>\n",
       "    </tr>\n",
       "  </tbody>\n",
       "</table>\n",
       "</div>"
      ],
      "text/plain": [
       "                  pH           Turb\n",
       "count  132360.000000  132360.000000\n",
       "mean        8.533367       0.128357\n",
       "std         0.040690       0.003767\n",
       "min         8.411880       0.094232\n",
       "25%         8.502780       0.127160\n",
       "50%         8.539710       0.127753\n",
       "75%         8.563490       0.128685\n",
       "max         8.653850       0.784440"
      ]
     },
     "execution_count": 9,
     "metadata": {},
     "output_type": "execute_result"
    }
   ],
   "source": [
    "# IQR method\n",
    "Q1 = interpolated_df[\"pH\"].quantile(0.25)\n",
    "Q3 = interpolated_df[\"pH\"].quantile(0.75)\n",
    "\n",
    "IQR = Q3 - Q1\n",
    "\n",
    "lower = Q1 - 1.5 * IQR\n",
    "upper = Q3 + 1.5 * IQR\n",
    "\n",
    "# Detect outliers using the IQR\n",
    "outliers = (interpolated_df[\"pH\"] < lower) | (interpolated_df[\"pH\"] > upper)\n",
    "\n",
    "# Remove the outliers\n",
    "removed_ph_outliers_df = interpolated_df[~outliers]\n",
    "no_outliers_df = removed_ph_outliers_df[removed_ph_outliers_df[\"Turb\"] <= 1]\n",
    "\n",
    "no_outliers_df.describe()"
   ]
  },
  {
   "cell_type": "code",
   "execution_count": 10,
   "id": "acfa631899166e30",
   "metadata": {
    "ExecuteTime": {
     "end_time": "2024-02-17T07:30:04.251124800Z",
     "start_time": "2024-02-17T07:30:03.673281600Z"
    },
    "collapsed": false,
    "jupyter": {
     "outputs_hidden": false
    }
   },
   "outputs": [
    {
     "data": {
      "image/png": "[encoded data removed]",
      "text/plain": [
       "<Figure size 800x400 with 2 Axes>"
      ]
     },
     "metadata": {},
     "output_type": "display_data"
    }
   ],
   "source": [
    "line_plot(no_outliers_df['pH'], no_outliers_df['Turb'])"
   ]
  },
  {
   "cell_type": "code",
   "execution_count": 11,
   "id": "1422202b",
   "metadata": {},
   "outputs": [
    {
     "name": "stdout",
     "output_type": "stream",
     "text": [
      "<class 'pandas.core.frame.DataFrame'>\n",
      "DatetimeIndex: 2208 entries, 2017-07-01 00:00:00 to 2017-09-30 23:00:00\n",
      "Freq: H\n",
      "Data columns (total 2 columns):\n",
      " #   Column  Non-Null Count  Dtype  \n",
      "---  ------  --------------  -----  \n",
      " 0   pH      2208 non-null   float64\n",
      " 1   Turb    2208 non-null   float64\n",
      "dtypes: float64(2)\n",
      "memory usage: 51.8 KB\n"
     ]
    }
   ],
   "source": [
    "# no_outliers_df.set_index(\"Time\", inplace=True)\n",
    "hourly_df = no_outliers_df.resample(\"H\").mean()\n",
    "hourly_df.info()"
   ]
  },
  {
   "cell_type": "code",
   "execution_count": 12,
   "id": "25ec0412",
   "metadata": {},
   "outputs": [],
   "source": [
    "final_df = hourly_df"
   ]
  },
  {
   "cell_type": "code",
   "execution_count": 13,
   "id": "b054a15c",
   "metadata": {},
   "outputs": [
    {
     "data": {
      "image/png": "[encoded data removed]",
      "text/plain": [
       "<Figure size 800x400 with 2 Axes>"
      ]
     },
     "metadata": {},
     "output_type": "display_data"
    }
   ],
   "source": [
    "line_plot(final_df['pH'], final_df['Turb'])"
   ]
  },
  {
   "cell_type": "markdown",
   "id": "dff49ef9649f11c8",
   "metadata": {
    "collapsed": false,
    "jupyter": {
     "outputs_hidden": false
    }
   },
   "source": [
    "## Preparation"
   ]
  },
  {
   "cell_type": "markdown",
   "id": "cb4881b886f16849",
   "metadata": {
    "collapsed": false,
    "jupyter": {
     "outputs_hidden": false
    }
   },
   "source": [
    "### Train and test split"
   ]
  },
  {
   "cell_type": "code",
   "execution_count": 14,
   "id": "2ad6f906700f00d7",
   "metadata": {
    "ExecuteTime": {
     "end_time": "2024-02-17T07:30:05.434106700Z",
     "start_time": "2024-02-17T07:30:05.352945100Z"
    },
    "collapsed": false,
    "jupyter": {
     "outputs_hidden": false
    }
   },
   "outputs": [],
   "source": [
    "train_size = int(0.8 * len(final_df))\n",
    "train = final_df[:train_size]\n",
    "test = final_df[train_size:]"
   ]
  },
  {
   "cell_type": "markdown",
   "id": "d007d88713669557",
   "metadata": {
    "collapsed": false,
    "jupyter": {
     "outputs_hidden": false
    }
   },
   "source": [
    "### Scaling"
   ]
  },
  {
   "cell_type": "code",
   "execution_count": 15,
   "id": "b442a8951f9c0443",
   "metadata": {
    "ExecuteTime": {
     "end_time": "2024-02-17T07:30:05.509419Z",
     "start_time": "2024-02-17T07:30:05.372102200Z"
    },
    "collapsed": false,
    "jupyter": {
     "outputs_hidden": false
    }
   },
   "outputs": [],
   "source": [
    "scaler = MinMaxScaler()\n",
    "train_scaled = scaler.fit_transform(train)\n",
    "test_scaled = scaler.transform(test)"
   ]
  },
  {
   "cell_type": "markdown",
   "id": "ed3df4e48b1002a2",
   "metadata": {
    "collapsed": false,
    "jupyter": {
     "outputs_hidden": false
    }
   },
   "source": [
    "### Split"
   ]
  },
  {
   "cell_type": "code",
   "execution_count": 16,
   "id": "ce96e558df8599b",
   "metadata": {
    "ExecuteTime": {
     "end_time": "2024-02-17T07:30:05.536494Z",
     "start_time": "2024-02-17T07:30:05.388139200Z"
    },
    "collapsed": false,
    "jupyter": {
     "outputs_hidden": false
    }
   },
   "outputs": [],
   "source": [
    "def split_multivariate_sequence(data, input_steps, output_steps):\n",
    "    X, y = list(), list()\n",
    "\n",
    "    for i in range(len(data)):\n",
    "        # Find the end of the input sequence\n",
    "        input_end_idx = i + input_steps\n",
    "        output_end_idx = input_end_idx + output_steps\n",
    "\n",
    "        # Check if we are beyond the dataset\n",
    "        if output_end_idx > len(data):\n",
    "            break\n",
    "\n",
    "        # Gather input and output parts of the sequence\n",
    "        input_seq, output_seq = data[i:input_end_idx, :], data[input_end_idx:output_end_idx, :]\n",
    "        X.append(input_seq)\n",
    "        y.append(output_seq)\n",
    "\n",
    "    return np.array(X), np.array(y)"
   ]
  },
  {
   "cell_type": "code",
   "execution_count": 17,
   "id": "6e651d765c80665b",
   "metadata": {
    "ExecuteTime": {
     "end_time": "2024-02-17T07:30:05.632637300Z",
     "start_time": "2024-02-17T07:30:05.403565300Z"
    },
    "collapsed": false,
    "jupyter": {
     "outputs_hidden": false
    }
   },
   "outputs": [
    {
     "name": "stdout",
     "output_type": "stream",
     "text": [
      "X Train: (1765, 1, 2) \n",
      "Y Train: (1765, 1, 2)\n",
      "X Test: (441, 1, 2)\n",
      "Y Test: (441, 1, 2)\n"
     ]
    }
   ],
   "source": [
    "# choose a number of time steps\n",
    "n_steps_in, n_steps_out = 1, 1\n",
    "# covert into input/output\n",
    "X_train, y_train = split_multivariate_sequence(train_scaled, n_steps_in, n_steps_out)\n",
    "print(f'X Train: {X_train.shape} \\nY Train: {y_train.shape}')\n",
    "\n",
    "X_test, y_test = split_multivariate_sequence(test_scaled, n_steps_in, n_steps_out)\n",
    "print(f'X Test: {X_test.shape}\\nY Test: {y_test.shape}')"
   ]
  },
  {
   "cell_type": "markdown",
   "id": "af4a5a9ad0df7e9a",
   "metadata": {
    "collapsed": false,
    "jupyter": {
     "outputs_hidden": false
    }
   },
   "source": [
    "## Modeling"
   ]
  },
  {
   "cell_type": "markdown",
   "id": "ab7b3b4f1adfc965",
   "metadata": {
    "collapsed": false,
    "jupyter": {
     "outputs_hidden": false
    }
   },
   "source": [
    "### Defining Model"
   ]
  },
  {
   "cell_type": "code",
   "execution_count": 18,
   "id": "e96654c1e01be850",
   "metadata": {
    "ExecuteTime": {
     "end_time": "2024-02-17T07:30:05.634644100Z",
     "start_time": "2024-02-17T07:30:05.574552900Z"
    },
    "collapsed": false,
    "jupyter": {
     "outputs_hidden": false
    }
   },
   "outputs": [],
   "source": [
    "n_features = X_train.shape[2]"
   ]
  },
  {
   "cell_type": "code",
   "execution_count": 19,
   "id": "ed6457a812287ac",
   "metadata": {
    "ExecuteTime": {
     "end_time": "2024-02-17T07:30:06.737256500Z",
     "start_time": "2024-02-17T07:30:05.591924800Z"
    },
    "collapsed": false,
    "jupyter": {
     "outputs_hidden": false
    }
   },
   "outputs": [],
   "source": [
    "# define model\n",
    "model = Sequential()\n",
    "model.add(\n",
    "    SimpleRNN(\n",
    "        128,\n",
    "        activation=\"relu\",\n",
    "        bias_regularizer=l2(0.01),\n",
    "        kernel_regularizer=l2(0.01),\n",
    "        recurrent_regularizer=l2(0.01),\n",
    "        input_shape=(n_steps_in, n_features),\n",
    "    )\n",
    ")\n",
    "\n",
    "model.add(Dropout(0.2))\n",
    "\n",
    "model.add(Dense(n_features))\n",
    "\n",
    "model.compile(optimizer=\"adam\", loss=\"mse\")"
   ]
  },
  {
   "cell_type": "code",
   "execution_count": 20,
   "id": "2996b1df",
   "metadata": {},
   "outputs": [
    {
     "data": {
      "image/png": "[encoded data removed]",
      "text/plain": [
       "<Figure size 640x480 with 1 Axes>"
      ]
     },
     "metadata": {},
     "output_type": "display_data"
    }
   ],
   "source": [
    "# Plot the model architecture\n",
    "from keras.utils import plot_model\n",
    "\n",
    "plot_file = 'model_plot.png'\n",
    "plot_model(model, to_file=plot_file, show_shapes=True, show_layer_names=True)\n",
    "\n",
    "# Display the plot\n",
    "image = plt.imread(plot_file)\n",
    "plt.imshow(image)\n",
    "plt.axis('off')\n",
    "plt.show()"
   ]
  },
  {
   "cell_type": "markdown",
   "id": "5e88b91a00d9f1db",
   "metadata": {
    "collapsed": false,
    "jupyter": {
     "outputs_hidden": false
    }
   },
   "source": [
    "### Fitting Model"
   ]
  },
  {
   "cell_type": "code",
   "execution_count": 21,
   "id": "63877582ca1f80be",
   "metadata": {
    "ExecuteTime": {
     "end_time": "2024-02-17T07:30:06.759447800Z",
     "start_time": "2024-02-17T07:30:06.739250900Z"
    },
    "collapsed": false,
    "jupyter": {
     "outputs_hidden": false
    }
   },
   "outputs": [],
   "source": [
    "# Early stopping based on validation loss\n",
    "early_stopping_val_loss = EarlyStopping(monitor='val_loss', patience=2)\n",
    "\n",
    "# Reduce learning rate based on validation loss\n",
    "reduce_lr_val_loss = ReduceLROnPlateau(monitor='val_loss', patience=3, factor=0.2, min_lr=0.0001)"
   ]
  },
  {
   "cell_type": "code",
   "execution_count": 22,
   "id": "31f6963f3b9bdaff",
   "metadata": {
    "ExecuteTime": {
     "end_time": "2024-02-17T07:31:45.731976200Z",
     "start_time": "2024-02-17T07:30:06.759447800Z"
    },
    "collapsed": false,
    "jupyter": {
     "outputs_hidden": false
    }
   },
   "outputs": [
    {
     "name": "stdout",
     "output_type": "stream",
     "text": [
      "Epoch 1/10000\n",
      "4/4 [==============================] - 3s 96ms/step - loss: 1.4541 - val_loss: 1.4262 - lr: 0.0010\n",
      "Epoch 2/10000\n",
      "4/4 [==============================] - 0s 15ms/step - loss: 1.3376 - val_loss: 1.3020 - lr: 0.0010\n",
      "Epoch 3/10000\n",
      "4/4 [==============================] - 0s 15ms/step - loss: 1.2277 - val_loss: 1.1882 - lr: 0.0010\n",
      "Epoch 4/10000\n",
      "4/4 [==============================] - 0s 16ms/step - loss: 1.1281 - val_loss: 1.0846 - lr: 0.0010\n",
      "Epoch 5/10000\n",
      "4/4 [==============================] - 0s 17ms/step - loss: 1.0373 - val_loss: 0.9907 - lr: 0.0010\n",
      "Epoch 6/10000\n",
      "4/4 [==============================] - 0s 16ms/step - loss: 0.9550 - val_loss: 0.9062 - lr: 0.0010\n",
      "Epoch 7/10000\n",
      "4/4 [==============================] - 0s 16ms/step - loss: 0.8809 - val_loss: 0.8303 - lr: 0.0010\n",
      "Epoch 8/10000\n",
      "4/4 [==============================] - 0s 16ms/step - loss: 0.8144 - val_loss: 0.7628 - lr: 0.0010\n",
      "Epoch 9/10000\n",
      "4/4 [==============================] - 0s 17ms/step - loss: 0.7550 - val_loss: 0.7030 - lr: 0.0010\n",
      "Epoch 10/10000\n",
      "4/4 [==============================] - 0s 17ms/step - loss: 0.7022 - val_loss: 0.6496 - lr: 0.0010\n",
      "Epoch 11/10000\n",
      "4/4 [==============================] - 0s 16ms/step - loss: 0.6541 - val_loss: 0.6018 - lr: 0.0010\n",
      "Epoch 12/10000\n",
      "4/4 [==============================] - 0s 16ms/step - loss: 0.6102 - val_loss: 0.5589 - lr: 0.0010\n",
      "Epoch 13/10000\n",
      "4/4 [==============================] - 0s 15ms/step - loss: 0.5693 - val_loss: 0.5203 - lr: 0.0010\n",
      "Epoch 14/10000\n",
      "4/4 [==============================] - 0s 17ms/step - loss: 0.5313 - val_loss: 0.4855 - lr: 0.0010\n",
      "Epoch 15/10000\n",
      "4/4 [==============================] - 0s 16ms/step - loss: 0.4958 - val_loss: 0.4536 - lr: 0.0010\n",
      "Epoch 16/10000\n",
      "4/4 [==============================] - 0s 16ms/step - loss: 0.4629 - val_loss: 0.4242 - lr: 0.0010\n",
      "Epoch 17/10000\n",
      "4/4 [==============================] - 0s 15ms/step - loss: 0.4328 - val_loss: 0.3968 - lr: 0.0010\n",
      "Epoch 18/10000\n",
      "4/4 [==============================] - 0s 15ms/step - loss: 0.4045 - val_loss: 0.3712 - lr: 0.0010\n",
      "Epoch 19/10000\n",
      "4/4 [==============================] - 0s 15ms/step - loss: 0.3785 - val_loss: 0.3469 - lr: 0.0010\n",
      "Epoch 20/10000\n",
      "4/4 [==============================] - 0s 15ms/step - loss: 0.3543 - val_loss: 0.3241 - lr: 0.0010\n",
      "Epoch 21/10000\n",
      "4/4 [==============================] - 0s 16ms/step - loss: 0.3319 - val_loss: 0.3030 - lr: 0.0010\n",
      "Epoch 22/10000\n",
      "4/4 [==============================] - 0s 16ms/step - loss: 0.3110 - val_loss: 0.2834 - lr: 0.0010\n",
      "Epoch 23/10000\n",
      "4/4 [==============================] - 0s 15ms/step - loss: 0.2918 - val_loss: 0.2650 - lr: 0.0010\n",
      "Epoch 24/10000\n",
      "4/4 [==============================] - 0s 16ms/step - loss: 0.2738 - val_loss: 0.2474 - lr: 0.0010\n",
      "Epoch 25/10000\n",
      "4/4 [==============================] - 0s 16ms/step - loss: 0.2570 - val_loss: 0.2317 - lr: 0.0010\n",
      "Epoch 26/10000\n",
      "4/4 [==============================] - 0s 15ms/step - loss: 0.2416 - val_loss: 0.2178 - lr: 0.0010\n",
      "Epoch 27/10000\n",
      "4/4 [==============================] - 0s 16ms/step - loss: 0.2272 - val_loss: 0.2050 - lr: 0.0010\n",
      "Epoch 28/10000\n",
      "4/4 [==============================] - 0s 16ms/step - loss: 0.2137 - val_loss: 0.1930 - lr: 0.0010\n",
      "Epoch 29/10000\n",
      "4/4 [==============================] - 0s 16ms/step - loss: 0.2013 - val_loss: 0.1805 - lr: 0.0010\n",
      "Epoch 30/10000\n",
      "4/4 [==============================] - 0s 16ms/step - loss: 0.1897 - val_loss: 0.1682 - lr: 0.0010\n",
      "Epoch 31/10000\n",
      "4/4 [==============================] - 0s 16ms/step - loss: 0.1788 - val_loss: 0.1575 - lr: 0.0010\n",
      "Epoch 32/10000\n",
      "4/4 [==============================] - 0s 17ms/step - loss: 0.1687 - val_loss: 0.1479 - lr: 0.0010\n",
      "Epoch 33/10000\n",
      "4/4 [==============================] - 0s 16ms/step - loss: 0.1593 - val_loss: 0.1391 - lr: 0.0010\n",
      "Epoch 34/10000\n",
      "4/4 [==============================] - 0s 17ms/step - loss: 0.1506 - val_loss: 0.1311 - lr: 0.0010\n",
      "Epoch 35/10000\n",
      "4/4 [==============================] - 0s 17ms/step - loss: 0.1424 - val_loss: 0.1243 - lr: 0.0010\n",
      "Epoch 36/10000\n",
      "4/4 [==============================] - 0s 16ms/step - loss: 0.1348 - val_loss: 0.1172 - lr: 0.0010\n",
      "Epoch 37/10000\n",
      "4/4 [==============================] - 0s 16ms/step - loss: 0.1277 - val_loss: 0.1107 - lr: 0.0010\n",
      "Epoch 38/10000\n",
      "4/4 [==============================] - 0s 15ms/step - loss: 0.1211 - val_loss: 0.1044 - lr: 0.0010\n",
      "Epoch 39/10000\n",
      "4/4 [==============================] - 0s 16ms/step - loss: 0.1150 - val_loss: 0.0990 - lr: 0.0010\n",
      "Epoch 40/10000\n",
      "4/4 [==============================] - 0s 17ms/step - loss: 0.1093 - val_loss: 0.0944 - lr: 0.0010\n",
      "Epoch 41/10000\n",
      "4/4 [==============================] - 0s 15ms/step - loss: 0.1039 - val_loss: 0.0890 - lr: 0.0010\n",
      "Epoch 42/10000\n",
      "4/4 [==============================] - 0s 16ms/step - loss: 0.0989 - val_loss: 0.0837 - lr: 0.0010\n",
      "Epoch 43/10000\n",
      "4/4 [==============================] - 0s 17ms/step - loss: 0.0942 - val_loss: 0.0797 - lr: 0.0010\n",
      "Epoch 44/10000\n",
      "4/4 [==============================] - 0s 17ms/step - loss: 0.0899 - val_loss: 0.0749 - lr: 0.0010\n",
      "Epoch 45/10000\n",
      "4/4 [==============================] - 0s 16ms/step - loss: 0.0858 - val_loss: 0.0696 - lr: 0.0010\n",
      "Epoch 46/10000\n",
      "4/4 [==============================] - 0s 16ms/step - loss: 0.0821 - val_loss: 0.0654 - lr: 0.0010\n",
      "Epoch 47/10000\n",
      "4/4 [==============================] - 0s 16ms/step - loss: 0.0786 - val_loss: 0.0630 - lr: 0.0010\n",
      "Epoch 48/10000\n",
      "4/4 [==============================] - 0s 17ms/step - loss: 0.0752 - val_loss: 0.0613 - lr: 0.0010\n",
      "Epoch 49/10000\n",
      "4/4 [==============================] - 0s 17ms/step - loss: 0.0722 - val_loss: 0.0590 - lr: 0.0010\n",
      "Epoch 50/10000\n",
      "4/4 [==============================] - 0s 17ms/step - loss: 0.0692 - val_loss: 0.0562 - lr: 0.0010\n",
      "Epoch 51/10000\n",
      "4/4 [==============================] - 0s 16ms/step - loss: 0.0666 - val_loss: 0.0538 - lr: 0.0010\n",
      "Epoch 52/10000\n",
      "4/4 [==============================] - 0s 16ms/step - loss: 0.0641 - val_loss: 0.0513 - lr: 0.0010\n",
      "Epoch 53/10000\n",
      "4/4 [==============================] - 0s 17ms/step - loss: 0.0617 - val_loss: 0.0486 - lr: 0.0010\n",
      "Epoch 54/10000\n",
      "4/4 [==============================] - 0s 16ms/step - loss: 0.0595 - val_loss: 0.0456 - lr: 0.0010\n",
      "Epoch 55/10000\n",
      "4/4 [==============================] - 0s 16ms/step - loss: 0.0575 - val_loss: 0.0444 - lr: 0.0010\n",
      "Epoch 56/10000\n",
      "4/4 [==============================] - 0s 17ms/step - loss: 0.0555 - val_loss: 0.0428 - lr: 0.0010\n",
      "Epoch 57/10000\n",
      "4/4 [==============================] - 0s 17ms/step - loss: 0.0538 - val_loss: 0.0402 - lr: 0.0010\n",
      "Epoch 58/10000\n",
      "4/4 [==============================] - 0s 16ms/step - loss: 0.0521 - val_loss: 0.0384 - lr: 0.0010\n",
      "Epoch 59/10000\n",
      "4/4 [==============================] - 0s 17ms/step - loss: 0.0505 - val_loss: 0.0380 - lr: 0.0010\n",
      "Epoch 60/10000\n",
      "4/4 [==============================] - 0s 16ms/step - loss: 0.0491 - val_loss: 0.0373 - lr: 0.0010\n",
      "Epoch 61/10000\n",
      "4/4 [==============================] - 0s 17ms/step - loss: 0.0478 - val_loss: 0.0349 - lr: 0.0010\n",
      "Epoch 62/10000\n",
      "4/4 [==============================] - 0s 16ms/step - loss: 0.0464 - val_loss: 0.0321 - lr: 0.0010\n",
      "Epoch 63/10000\n",
      "4/4 [==============================] - 0s 16ms/step - loss: 0.0453 - val_loss: 0.0311 - lr: 0.0010\n",
      "Epoch 64/10000\n",
      "4/4 [==============================] - 0s 16ms/step - loss: 0.0442 - val_loss: 0.0310 - lr: 0.0010\n",
      "Epoch 65/10000\n",
      "4/4 [==============================] - 0s 16ms/step - loss: 0.0430 - val_loss: 0.0301 - lr: 0.0010\n",
      "Epoch 66/10000\n",
      "4/4 [==============================] - 0s 16ms/step - loss: 0.0421 - val_loss: 0.0292 - lr: 0.0010\n",
      "Epoch 67/10000\n",
      "4/4 [==============================] - 0s 17ms/step - loss: 0.0412 - val_loss: 0.0287 - lr: 0.0010\n",
      "Epoch 68/10000\n",
      "4/4 [==============================] - 0s 17ms/step - loss: 0.0403 - val_loss: 0.0286 - lr: 0.0010\n",
      "Epoch 69/10000\n",
      "4/4 [==============================] - 0s 17ms/step - loss: 0.0395 - val_loss: 0.0277 - lr: 0.0010\n",
      "Epoch 70/10000\n",
      "4/4 [==============================] - 0s 17ms/step - loss: 0.0388 - val_loss: 0.0260 - lr: 0.0010\n",
      "Epoch 71/10000\n",
      "4/4 [==============================] - 0s 17ms/step - loss: 0.0380 - val_loss: 0.0249 - lr: 0.0010\n",
      "Epoch 72/10000\n",
      "4/4 [==============================] - 0s 17ms/step - loss: 0.0374 - val_loss: 0.0259 - lr: 0.0010\n",
      "Epoch 73/10000\n",
      "4/4 [==============================] - 0s 17ms/step - loss: 0.0367 - val_loss: 0.0255 - lr: 0.0010\n"
     ]
    }
   ],
   "source": [
    "# Use these callbacks during model training\n",
    "history = model.fit(X_train, y_train, epochs=10000,\n",
    "                    callbacks=[early_stopping_val_loss, reduce_lr_val_loss],\n",
    "                    validation_split=0.1, batch_size=512)"
   ]
  }
 ],
 "metadata": {
  "kernelspec": {
   "display_name": "Python 3 (ipykernel)",
   "language": "python",
   "name": "python3"
  },
  "language_info": {
   "codemirror_mode": {
    "name": "ipython",
    "version": 3
   },
   "file_extension": ".py",
   "mimetype": "text/x-python",
   "name": "python",
   "nbconvert_exporter": "python",
   "pygments_lexer": "ipython3",
   "version": "3.10.13"
  }
 },
 "nbformat": 4,
 "nbformat_minor": 5
}
