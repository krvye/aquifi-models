{
 "cells": [
  {
   "cell_type": "markdown",
   "id": "beb5f7724d363ef2",
   "metadata": {
    "collapsed": false,
    "jupyter": {
     "outputs_hidden": false
    }
   },
   "source": [
    "# Tap Water Quality Forecasting"
   ]
  },
  {
   "cell_type": "markdown",
   "id": "ba447d03465df47f",
   "metadata": {
    "collapsed": false,
    "jupyter": {
     "outputs_hidden": false
    }
   },
   "source": [
    "## Import"
   ]
  },
  {
   "cell_type": "markdown",
   "id": "d7fd6cdeae0c33d8",
   "metadata": {
    "collapsed": false,
    "jupyter": {
     "outputs_hidden": false
    }
   },
   "source": [
    "### Libraries"
   ]
  },
  {
   "cell_type": "code",
   "execution_count": 1,
   "id": "initial_id",
   "metadata": {
    "ExecuteTime": {
     "end_time": "2024-02-17T07:30:02.827370700Z",
     "start_time": "2024-02-17T07:29:54.809787Z"
    }
   },
   "outputs": [],
   "source": [
    "import warnings\n",
    "\n",
    "import matplotlib.pyplot as plt\n",
    "import numpy as np\n",
    "import pandas as pd\n",
    "from keras.callbacks import EarlyStopping, ReduceLROnPlateau\n",
    "from keras.layers import LSTM, Dense, Dropout\n",
    "from keras.models import Sequential\n",
    "from keras.regularizers import l2\n",
    "from sklearn.preprocessing import MinMaxScaler\n",
    "\n",
    "warnings.filterwarnings('ignore')"
   ]
  },
  {
   "cell_type": "markdown",
   "id": "52f7d8f18743951",
   "metadata": {
    "collapsed": false,
    "jupyter": {
     "outputs_hidden": false
    }
   },
   "source": [
    "### Dataset"
   ]
  },
  {
   "cell_type": "code",
   "execution_count": 2,
   "id": "41d5329eaf5246b1",
   "metadata": {
    "ExecuteTime": {
     "end_time": "2024-02-17T07:30:02.963542700Z",
     "start_time": "2024-02-17T07:30:02.830891100Z"
    },
    "collapsed": false,
    "jupyter": {
     "outputs_hidden": false
    }
   },
   "outputs": [
    {
     "data": {
      "text/html": [
       "<div>\n",
       "<style scoped>\n",
       "    .dataframe tbody tr th:only-of-type {\n",
       "        vertical-align: middle;\n",
       "    }\n",
       "\n",
       "    .dataframe tbody tr th {\n",
       "        vertical-align: top;\n",
       "    }\n",
       "\n",
       "    .dataframe thead th {\n",
       "        text-align: right;\n",
       "    }\n",
       "</style>\n",
       "<table border=\"1\" class=\"dataframe\">\n",
       "  <thead>\n",
       "    <tr style=\"text-align: right;\">\n",
       "      <th></th>\n",
       "      <th>pH</th>\n",
       "      <th>Turb</th>\n",
       "    </tr>\n",
       "    <tr>\n",
       "      <th>Time</th>\n",
       "      <th></th>\n",
       "      <th></th>\n",
       "    </tr>\n",
       "  </thead>\n",
       "  <tbody>\n",
       "    <tr>\n",
       "      <th>2017-07-01 00:00:00</th>\n",
       "      <td>8.60774</td>\n",
       "      <td>0.125931</td>\n",
       "    </tr>\n",
       "    <tr>\n",
       "      <th>2017-07-01 00:01:00</th>\n",
       "      <td>8.60589</td>\n",
       "      <td>0.127219</td>\n",
       "    </tr>\n",
       "    <tr>\n",
       "      <th>2017-07-01 00:02:00</th>\n",
       "      <td>8.60220</td>\n",
       "      <td>0.126482</td>\n",
       "    </tr>\n",
       "    <tr>\n",
       "      <th>2017-07-01 00:03:00</th>\n",
       "      <td>8.60220</td>\n",
       "      <td>0.126184</td>\n",
       "    </tr>\n",
       "    <tr>\n",
       "      <th>2017-07-01 00:04:00</th>\n",
       "      <td>8.60405</td>\n",
       "      <td>0.127908</td>\n",
       "    </tr>\n",
       "  </tbody>\n",
       "</table>\n",
       "</div>"
      ],
      "text/plain": [
       "                          pH      Turb\n",
       "Time                                  \n",
       "2017-07-01 00:00:00  8.60774  0.125931\n",
       "2017-07-01 00:01:00  8.60589  0.127219\n",
       "2017-07-01 00:02:00  8.60220  0.126482\n",
       "2017-07-01 00:03:00  8.60220  0.126184\n",
       "2017-07-01 00:04:00  8.60405  0.127908"
      ]
     },
     "execution_count": 2,
     "metadata": {},
     "output_type": "execute_result"
    }
   ],
   "source": [
    "filepath = \"../../gecco_2019_drinking_water_quality_dataset.csv\"\n",
    "raw_df = pd.read_csv(\n",
    "    filepath,\n",
    "    parse_dates=[\"Time\"],\n",
    "    index_col=\"Time\",\n",
    "    usecols=[\"Time\", \"pH\", \"Turb\"],\n",
    ")\n",
    "raw_df.head()"
   ]
  },
  {
   "cell_type": "markdown",
   "id": "b7bd267a2e8915af",
   "metadata": {
    "collapsed": false,
    "jupyter": {
     "outputs_hidden": false
    }
   },
   "source": [
    "## Preprocessing"
   ]
  },
  {
   "cell_type": "markdown",
   "id": "1e35c8a3df4fd61b",
   "metadata": {
    "collapsed": false,
    "jupyter": {
     "outputs_hidden": false
    }
   },
   "source": [
    "### Descriptive Analysis"
   ]
  },
  {
   "cell_type": "code",
   "execution_count": 3,
   "id": "9f4d0c507053ae3",
   "metadata": {
    "ExecuteTime": {
     "end_time": "2024-02-17T07:30:03.008293Z",
     "start_time": "2024-02-17T07:30:02.961543900Z"
    },
    "collapsed": false,
    "jupyter": {
     "outputs_hidden": false
    }
   },
   "outputs": [
    {
     "name": "stdout",
     "output_type": "stream",
     "text": [
      "<class 'pandas.core.frame.DataFrame'>\n",
      "DatetimeIndex: 132480 entries, 2017-07-01 00:00:00 to 2017-09-30 23:59:00\n",
      "Data columns (total 2 columns):\n",
      " #   Column  Non-Null Count   Dtype  \n",
      "---  ------  --------------   -----  \n",
      " 0   pH      132272 non-null  float64\n",
      " 1   Turb    132275 non-null  float64\n",
      "dtypes: float64(2)\n",
      "memory usage: 3.0 MB\n"
     ]
    }
   ],
   "source": [
    "raw_df.info()"
   ]
  },
  {
   "cell_type": "code",
   "execution_count": 4,
   "id": "16c96b492417325a",
   "metadata": {
    "ExecuteTime": {
     "end_time": "2024-02-17T07:30:03.121052500Z",
     "start_time": "2024-02-17T07:30:02.988174Z"
    },
    "collapsed": false,
    "jupyter": {
     "outputs_hidden": false
    }
   },
   "outputs": [
    {
     "data": {
      "text/html": [
       "<div>\n",
       "<style scoped>\n",
       "    .dataframe tbody tr th:only-of-type {\n",
       "        vertical-align: middle;\n",
       "    }\n",
       "\n",
       "    .dataframe tbody tr th {\n",
       "        vertical-align: top;\n",
       "    }\n",
       "\n",
       "    .dataframe thead th {\n",
       "        text-align: right;\n",
       "    }\n",
       "</style>\n",
       "<table border=\"1\" class=\"dataframe\">\n",
       "  <thead>\n",
       "    <tr style=\"text-align: right;\">\n",
       "      <th></th>\n",
       "      <th>pH</th>\n",
       "      <th>Turb</th>\n",
       "    </tr>\n",
       "  </thead>\n",
       "  <tbody>\n",
       "    <tr>\n",
       "      <th>count</th>\n",
       "      <td>132272.000000</td>\n",
       "      <td>132275.000000</td>\n",
       "    </tr>\n",
       "    <tr>\n",
       "      <th>mean</th>\n",
       "      <td>8.533168</td>\n",
       "      <td>0.128368</td>\n",
       "    </tr>\n",
       "    <tr>\n",
       "      <th>std</th>\n",
       "      <td>0.052646</td>\n",
       "      <td>0.005928</td>\n",
       "    </tr>\n",
       "    <tr>\n",
       "      <th>min</th>\n",
       "      <td>0.000000</td>\n",
       "      <td>0.000000</td>\n",
       "    </tr>\n",
       "    <tr>\n",
       "      <th>25%</th>\n",
       "      <td>8.502780</td>\n",
       "      <td>0.127160</td>\n",
       "    </tr>\n",
       "    <tr>\n",
       "      <th>50%</th>\n",
       "      <td>8.539630</td>\n",
       "      <td>0.127754</td>\n",
       "    </tr>\n",
       "    <tr>\n",
       "      <th>75%</th>\n",
       "      <td>8.563490</td>\n",
       "      <td>0.128686</td>\n",
       "    </tr>\n",
       "    <tr>\n",
       "      <th>max</th>\n",
       "      <td>8.666760</td>\n",
       "      <td>1.782850</td>\n",
       "    </tr>\n",
       "  </tbody>\n",
       "</table>\n",
       "</div>"
      ],
      "text/plain": [
       "                  pH           Turb\n",
       "count  132272.000000  132275.000000\n",
       "mean        8.533168       0.128368\n",
       "std         0.052646       0.005928\n",
       "min         0.000000       0.000000\n",
       "25%         8.502780       0.127160\n",
       "50%         8.539630       0.127754\n",
       "75%         8.563490       0.128686\n",
       "max         8.666760       1.782850"
      ]
     },
     "execution_count": 4,
     "metadata": {},
     "output_type": "execute_result"
    }
   ],
   "source": [
    "raw_df.describe()"
   ]
  },
  {
   "cell_type": "code",
   "execution_count": 5,
   "id": "f517678f1ab9d1e8",
   "metadata": {
    "ExecuteTime": {
     "end_time": "2024-02-17T07:30:03.589587700Z",
     "start_time": "2024-02-17T07:30:03.019636800Z"
    },
    "collapsed": false,
    "jupyter": {
     "outputs_hidden": false
    }
   },
   "outputs": [
    {
     "data": {
      "image/png": "[encoded data removed]",
      "text/plain": [
       "<Figure size 800x400 with 2 Axes>"
      ]
     },
     "metadata": {},
     "output_type": "display_data"
    }
   ],
   "source": [
    "ph = raw_df['pH']\n",
    "tb = raw_df['Turb']\n",
    "\n",
    "\n",
    "def line_plot(param, param1):\n",
    "    fig, axes = plt.subplots(1, 2, figsize=(8, 4))\n",
    "\n",
    "    axes[0].plot(param)\n",
    "    axes[0].set_title('pH Level')\n",
    "\n",
    "    axes[1].plot(param1)  # Example: Plotting the same data with a different color\n",
    "    axes[1].set_title('Turbidity Level')\n",
    "\n",
    "    plt.show()\n",
    "\n",
    "\n",
    "line_plot(ph, tb)"
   ]
  },
  {
   "cell_type": "code",
   "execution_count": 6,
   "id": "e06c65ed98c28add",
   "metadata": {
    "ExecuteTime": {
     "end_time": "2024-02-17T07:30:03.695063Z",
     "start_time": "2024-02-17T07:30:03.593595600Z"
    },
    "collapsed": false,
    "jupyter": {
     "outputs_hidden": false
    }
   },
   "outputs": [
    {
     "data": {
      "text/plain": [
       "pH      208\n",
       "Turb    205\n",
       "dtype: int64"
      ]
     },
     "execution_count": 6,
     "metadata": {},
     "output_type": "execute_result"
    }
   ],
   "source": [
    "raw_df.isnull().sum()"
   ]
  },
  {
   "cell_type": "code",
   "execution_count": 7,
   "id": "7f28782a",
   "metadata": {},
   "outputs": [],
   "source": [
    "interpolated_df = raw_df.interpolate(method='time')"
   ]
  },
  {
   "cell_type": "code",
   "execution_count": 8,
   "id": "44aca137",
   "metadata": {},
   "outputs": [
    {
     "data": {
      "text/plain": [
       "pH      0\n",
       "Turb    0\n",
       "dtype: int64"
      ]
     },
     "execution_count": 8,
     "metadata": {},
     "output_type": "execute_result"
    }
   ],
   "source": [
    "interpolated_df.isnull().sum()"
   ]
  },
  {
   "cell_type": "markdown",
   "id": "e7bb4084b4a8dea3",
   "metadata": {
    "collapsed": false,
    "jupyter": {
     "outputs_hidden": false
    }
   },
   "source": [
    "### Treating Outliers"
   ]
  },
  {
   "cell_type": "code",
   "execution_count": 9,
   "id": "ff17cd27e323f6fa",
   "metadata": {
    "ExecuteTime": {
     "end_time": "2024-02-17T07:30:03.697068900Z",
     "start_time": "2024-02-17T07:30:03.622529900Z"
    },
    "collapsed": false,
    "jupyter": {
     "outputs_hidden": false
    }
   },
   "outputs": [
    {
     "data": {
      "text/html": [
       "<div>\n",
       "<style scoped>\n",
       "    .dataframe tbody tr th:only-of-type {\n",
       "        vertical-align: middle;\n",
       "    }\n",
       "\n",
       "    .dataframe tbody tr th {\n",
       "        vertical-align: top;\n",
       "    }\n",
       "\n",
       "    .dataframe thead th {\n",
       "        text-align: right;\n",
       "    }\n",
       "</style>\n",
       "<table border=\"1\" class=\"dataframe\">\n",
       "  <thead>\n",
       "    <tr style=\"text-align: right;\">\n",
       "      <th></th>\n",
       "      <th>pH</th>\n",
       "      <th>Turb</th>\n",
       "    </tr>\n",
       "  </thead>\n",
       "  <tbody>\n",
       "    <tr>\n",
       "      <th>count</th>\n",
       "      <td>132360.000000</td>\n",
       "      <td>132360.000000</td>\n",
       "    </tr>\n",
       "    <tr>\n",
       "      <th>mean</th>\n",
       "      <td>8.533367</td>\n",
       "      <td>0.128357</td>\n",
       "    </tr>\n",
       "    <tr>\n",
       "      <th>std</th>\n",
       "      <td>0.040690</td>\n",
       "      <td>0.003767</td>\n",
       "    </tr>\n",
       "    <tr>\n",
       "      <th>min</th>\n",
       "      <td>8.411880</td>\n",
       "      <td>0.094232</td>\n",
       "    </tr>\n",
       "    <tr>\n",
       "      <th>25%</th>\n",
       "      <td>8.502780</td>\n",
       "      <td>0.127160</td>\n",
       "    </tr>\n",
       "    <tr>\n",
       "      <th>50%</th>\n",
       "      <td>8.539710</td>\n",
       "      <td>0.127753</td>\n",
       "    </tr>\n",
       "    <tr>\n",
       "      <th>75%</th>\n",
       "      <td>8.563490</td>\n",
       "      <td>0.128685</td>\n",
       "    </tr>\n",
       "    <tr>\n",
       "      <th>max</th>\n",
       "      <td>8.653850</td>\n",
       "      <td>0.784440</td>\n",
       "    </tr>\n",
       "  </tbody>\n",
       "</table>\n",
       "</div>"
      ],
      "text/plain": [
       "                  pH           Turb\n",
       "count  132360.000000  132360.000000\n",
       "mean        8.533367       0.128357\n",
       "std         0.040690       0.003767\n",
       "min         8.411880       0.094232\n",
       "25%         8.502780       0.127160\n",
       "50%         8.539710       0.127753\n",
       "75%         8.563490       0.128685\n",
       "max         8.653850       0.784440"
      ]
     },
     "execution_count": 9,
     "metadata": {},
     "output_type": "execute_result"
    }
   ],
   "source": [
    "# IQR method\n",
    "Q1 = interpolated_df[\"pH\"].quantile(0.25)\n",
    "Q3 = interpolated_df[\"pH\"].quantile(0.75)\n",
    "\n",
    "IQR = Q3 - Q1\n",
    "\n",
    "lower = Q1 - 1.5 * IQR\n",
    "upper = Q3 + 1.5 * IQR\n",
    "\n",
    "# Detect outliers using the IQR\n",
    "outliers = (interpolated_df[\"pH\"] < lower) | (interpolated_df[\"pH\"] > upper)\n",
    "\n",
    "# Remove the outliers\n",
    "removed_ph_outliers_df = interpolated_df[~outliers]\n",
    "no_outliers_df = removed_ph_outliers_df[removed_ph_outliers_df[\"Turb\"] <= 1]\n",
    "\n",
    "no_outliers_df.describe()"
   ]
  },
  {
   "cell_type": "code",
   "execution_count": 10,
   "id": "acfa631899166e30",
   "metadata": {
    "ExecuteTime": {
     "end_time": "2024-02-17T07:30:04.251124800Z",
     "start_time": "2024-02-17T07:30:03.673281600Z"
    },
    "collapsed": false,
    "jupyter": {
     "outputs_hidden": false
    }
   },
   "outputs": [
    {
     "data": {
      "image/png": "[encoded data removed]",
      "text/plain": [
       "<Figure size 800x400 with 2 Axes>"
      ]
     },
     "metadata": {},
     "output_type": "display_data"
    }
   ],
   "source": [
    "line_plot(no_outliers_df['pH'], no_outliers_df['Turb'])"
   ]
  },
  {
   "cell_type": "code",
   "execution_count": 11,
   "id": "1422202b",
   "metadata": {},
   "outputs": [
    {
     "name": "stdout",
     "output_type": "stream",
     "text": [
      "<class 'pandas.core.frame.DataFrame'>\n",
      "DatetimeIndex: 2208 entries, 2017-07-01 00:00:00 to 2017-09-30 23:00:00\n",
      "Freq: H\n",
      "Data columns (total 2 columns):\n",
      " #   Column  Non-Null Count  Dtype  \n",
      "---  ------  --------------  -----  \n",
      " 0   pH      2208 non-null   float64\n",
      " 1   Turb    2208 non-null   float64\n",
      "dtypes: float64(2)\n",
      "memory usage: 51.8 KB\n"
     ]
    }
   ],
   "source": [
    "# no_outliers_df.set_index(\"Time\", inplace=True)\n",
    "hourly_df = no_outliers_df.resample(\"H\").mean()\n",
    "hourly_df.info()"
   ]
  },
  {
   "cell_type": "code",
   "execution_count": 12,
   "id": "25ec0412",
   "metadata": {},
   "outputs": [],
   "source": [
    "final_df = hourly_df"
   ]
  },
  {
   "cell_type": "code",
   "execution_count": 13,
   "id": "b054a15c",
   "metadata": {},
   "outputs": [
    {
     "data": {
      "image/png": "[encoded data removed]",
      "text/plain": [
       "<Figure size 800x400 with 2 Axes>"
      ]
     },
     "metadata": {},
     "output_type": "display_data"
    }
   ],
   "source": [
    "line_plot(final_df['pH'], final_df['Turb'])"
   ]
  },
  {
   "cell_type": "markdown",
   "id": "dff49ef9649f11c8",
   "metadata": {
    "collapsed": false,
    "jupyter": {
     "outputs_hidden": false
    }
   },
   "source": [
    "## Preparation"
   ]
  },
  {
   "cell_type": "markdown",
   "id": "cb4881b886f16849",
   "metadata": {
    "collapsed": false,
    "jupyter": {
     "outputs_hidden": false
    }
   },
   "source": [
    "### Train and test split"
   ]
  },
  {
   "cell_type": "code",
   "execution_count": 14,
   "id": "2ad6f906700f00d7",
   "metadata": {
    "ExecuteTime": {
     "end_time": "2024-02-17T07:30:05.434106700Z",
     "start_time": "2024-02-17T07:30:05.352945100Z"
    },
    "collapsed": false,
    "jupyter": {
     "outputs_hidden": false
    }
   },
   "outputs": [],
   "source": [
    "train_size = int(0.8 * len(final_df))\n",
    "train = final_df[:train_size]\n",
    "test = final_df[train_size:]"
   ]
  },
  {
   "cell_type": "markdown",
   "id": "d007d88713669557",
   "metadata": {
    "collapsed": false,
    "jupyter": {
     "outputs_hidden": false
    }
   },
   "source": [
    "### Scaling"
   ]
  },
  {
   "cell_type": "code",
   "execution_count": 15,
   "id": "b442a8951f9c0443",
   "metadata": {
    "ExecuteTime": {
     "end_time": "2024-02-17T07:30:05.509419Z",
     "start_time": "2024-02-17T07:30:05.372102200Z"
    },
    "collapsed": false,
    "jupyter": {
     "outputs_hidden": false
    }
   },
   "outputs": [],
   "source": [
    "scaler = MinMaxScaler()\n",
    "train_scaled = scaler.fit_transform(train)\n",
    "test_scaled = scaler.transform(test)"
   ]
  },
  {
   "cell_type": "markdown",
   "id": "ed3df4e48b1002a2",
   "metadata": {
    "collapsed": false,
    "jupyter": {
     "outputs_hidden": false
    }
   },
   "source": [
    "### Split"
   ]
  },
  {
   "cell_type": "code",
   "execution_count": 16,
   "id": "ce96e558df8599b",
   "metadata": {
    "ExecuteTime": {
     "end_time": "2024-02-17T07:30:05.536494Z",
     "start_time": "2024-02-17T07:30:05.388139200Z"
    },
    "collapsed": false,
    "jupyter": {
     "outputs_hidden": false
    }
   },
   "outputs": [],
   "source": [
    "def split_multivariate_sequence(data, input_steps, output_steps):\n",
    "    X, y = list(), list()\n",
    "\n",
    "    for i in range(len(data)):\n",
    "        # Find the end of the input sequence\n",
    "        input_end_idx = i + input_steps\n",
    "        output_end_idx = input_end_idx + output_steps\n",
    "\n",
    "        # Check if we are beyond the dataset\n",
    "        if output_end_idx > len(data):\n",
    "            break\n",
    "\n",
    "        # Gather input and output parts of the sequence\n",
    "        input_seq, output_seq = data[i:input_end_idx, :], data[input_end_idx:output_end_idx, :]\n",
    "        X.append(input_seq)\n",
    "        y.append(output_seq)\n",
    "\n",
    "    return np.array(X), np.array(y)"
   ]
  },
  {
   "cell_type": "code",
   "execution_count": 17,
   "id": "6e651d765c80665b",
   "metadata": {
    "ExecuteTime": {
     "end_time": "2024-02-17T07:30:05.632637300Z",
     "start_time": "2024-02-17T07:30:05.403565300Z"
    },
    "collapsed": false,
    "jupyter": {
     "outputs_hidden": false
    }
   },
   "outputs": [
    {
     "name": "stdout",
     "output_type": "stream",
     "text": [
      "X Train: (1765, 1, 2) \n",
      "Y Train: (1765, 1, 2)\n",
      "X Test: (441, 1, 2)\n",
      "Y Test: (441, 1, 2)\n"
     ]
    }
   ],
   "source": [
    "# choose a number of time steps\n",
    "n_steps_in, n_steps_out = 1, 1\n",
    "# covert into input/output\n",
    "X_train, y_train = split_multivariate_sequence(train_scaled, n_steps_in, n_steps_out)\n",
    "print(f'X Train: {X_train.shape} \\nY Train: {y_train.shape}')\n",
    "\n",
    "X_test, y_test = split_multivariate_sequence(test_scaled, n_steps_in, n_steps_out)\n",
    "print(f'X Test: {X_test.shape}\\nY Test: {y_test.shape}')"
   ]
  },
  {
   "cell_type": "markdown",
   "id": "af4a5a9ad0df7e9a",
   "metadata": {
    "collapsed": false,
    "jupyter": {
     "outputs_hidden": false
    }
   },
   "source": [
    "## Modeling"
   ]
  },
  {
   "cell_type": "markdown",
   "id": "ab7b3b4f1adfc965",
   "metadata": {
    "collapsed": false,
    "jupyter": {
     "outputs_hidden": false
    }
   },
   "source": [
    "### Defining Model"
   ]
  },
  {
   "cell_type": "code",
   "execution_count": 18,
   "id": "e96654c1e01be850",
   "metadata": {
    "ExecuteTime": {
     "end_time": "2024-02-17T07:30:05.634644100Z",
     "start_time": "2024-02-17T07:30:05.574552900Z"
    },
    "collapsed": false,
    "jupyter": {
     "outputs_hidden": false
    }
   },
   "outputs": [],
   "source": [
    "n_features = X_train.shape[2]"
   ]
  },
  {
   "cell_type": "code",
   "execution_count": 19,
   "id": "ed6457a812287ac",
   "metadata": {
    "ExecuteTime": {
     "end_time": "2024-02-17T07:30:06.737256500Z",
     "start_time": "2024-02-17T07:30:05.591924800Z"
    },
    "collapsed": false,
    "jupyter": {
     "outputs_hidden": false
    }
   },
   "outputs": [
    {
     "name": "stdout",
     "output_type": "stream",
     "text": [
      "WARNING:tensorflow:Layer lstm will not use cuDNN kernels since it doesn't meet the criteria. It will use a generic GPU kernel as fallback when running on GPU.\n"
     ]
    }
   ],
   "source": [
    "# define model\n",
    "model = Sequential()\n",
    "model.add(\n",
    "    LSTM(\n",
    "        128,\n",
    "        activation=\"relu\",\n",
    "        bias_regularizer=l2(0.01),\n",
    "        kernel_regularizer=l2(0.01),\n",
    "        recurrent_regularizer=l2(0.01),\n",
    "        input_shape=(n_steps_in, n_features),\n",
    "    )\n",
    ")\n",
    "\n",
    "model.add(Dropout(0.2))\n",
    "\n",
    "model.add(Dense(n_features))\n",
    "\n",
    "model.compile(optimizer=\"adam\", loss=\"mse\")"
   ]
  },
  {
   "cell_type": "code",
   "execution_count": 20,
   "id": "2996b1df",
   "metadata": {},
   "outputs": [
    {
     "data": {
      "image/png": "[encoded data removed]",
      "text/plain": [
       "<Figure size 640x480 with 1 Axes>"
      ]
     },
     "metadata": {},
     "output_type": "display_data"
    }
   ],
   "source": [
    "# Plot the model architecture\n",
    "from keras.utils import plot_model\n",
    "\n",
    "plot_file = 'model_plot.png'\n",
    "plot_model(model, to_file=plot_file, show_shapes=True, show_layer_names=True)\n",
    "\n",
    "# Display the plot\n",
    "image = plt.imread(plot_file)\n",
    "plt.imshow(image)\n",
    "plt.axis('off')\n",
    "plt.show()"
   ]
  },
  {
   "cell_type": "markdown",
   "id": "5e88b91a00d9f1db",
   "metadata": {
    "collapsed": false,
    "jupyter": {
     "outputs_hidden": false
    }
   },
   "source": [
    "### Fitting Model"
   ]
  },
  {
   "cell_type": "code",
   "execution_count": 21,
   "id": "63877582ca1f80be",
   "metadata": {
    "ExecuteTime": {
     "end_time": "2024-02-17T07:30:06.759447800Z",
     "start_time": "2024-02-17T07:30:06.739250900Z"
    },
    "collapsed": false,
    "jupyter": {
     "outputs_hidden": false
    }
   },
   "outputs": [],
   "source": [
    "# Early stopping based on validation loss\n",
    "early_stopping_val_loss = EarlyStopping(monitor='val_loss', patience=2)\n",
    "\n",
    "# Reduce learning rate based on validation loss\n",
    "reduce_lr_val_loss = ReduceLROnPlateau(monitor='val_loss', patience=3, factor=0.2, min_lr=0.0001)"
   ]
  },
  {
   "cell_type": "code",
   "execution_count": 22,
   "id": "31f6963f3b9bdaff",
   "metadata": {
    "ExecuteTime": {
     "end_time": "2024-02-17T07:31:45.731976200Z",
     "start_time": "2024-02-17T07:30:06.759447800Z"
    },
    "collapsed": false,
    "jupyter": {
     "outputs_hidden": false
    }
   },
   "outputs": [
    {
     "name": "stdout",
     "output_type": "stream",
     "text": [
      "Epoch 1/10000\n",
      "4/4 [==============================] - 4s 103ms/step - loss: 2.6883 - val_loss: 2.6032 - lr: 0.0010\n",
      "Epoch 2/10000\n",
      "4/4 [==============================] - 0s 17ms/step - loss: 2.4978 - val_loss: 2.4249 - lr: 0.0010\n",
      "Epoch 3/10000\n",
      "4/4 [==============================] - 0s 17ms/step - loss: 2.3282 - val_loss: 2.2666 - lr: 0.0010\n",
      "Epoch 4/10000\n",
      "4/4 [==============================] - 0s 17ms/step - loss: 2.1783 - val_loss: 2.1267 - lr: 0.0010\n",
      "Epoch 5/10000\n",
      "4/4 [==============================] - 0s 17ms/step - loss: 2.0460 - val_loss: 2.0033 - lr: 0.0010\n",
      "Epoch 6/10000\n",
      "4/4 [==============================] - 0s 17ms/step - loss: 1.9299 - val_loss: 1.8945 - lr: 0.0010\n",
      "Epoch 7/10000\n",
      "4/4 [==============================] - 0s 18ms/step - loss: 1.8278 - val_loss: 1.7984 - lr: 0.0010\n",
      "Epoch 8/10000\n",
      "4/4 [==============================] - 0s 18ms/step - loss: 1.7381 - val_loss: 1.7134 - lr: 0.0010\n",
      "Epoch 9/10000\n",
      "4/4 [==============================] - 0s 17ms/step - loss: 1.6590 - val_loss: 1.6381 - lr: 0.0010\n",
      "Epoch 10/10000\n",
      "4/4 [==============================] - 0s 17ms/step - loss: 1.5894 - val_loss: 1.5713 - lr: 0.0010\n",
      "Epoch 11/10000\n",
      "4/4 [==============================] - 0s 16ms/step - loss: 1.5281 - val_loss: 1.5117 - lr: 0.0010\n",
      "Epoch 12/10000\n",
      "4/4 [==============================] - 0s 17ms/step - loss: 1.4737 - val_loss: 1.4586 - lr: 0.0010\n",
      "Epoch 13/10000\n",
      "4/4 [==============================] - 0s 21ms/step - loss: 1.4254 - val_loss: 1.4111 - lr: 0.0010\n",
      "Epoch 14/10000\n",
      "4/4 [==============================] - 0s 16ms/step - loss: 1.3826 - val_loss: 1.3685 - lr: 0.0010\n",
      "Epoch 15/10000\n",
      "4/4 [==============================] - 0s 16ms/step - loss: 1.3445 - val_loss: 1.3302 - lr: 0.0010\n",
      "Epoch 16/10000\n",
      "4/4 [==============================] - 0s 19ms/step - loss: 1.3105 - val_loss: 1.2955 - lr: 0.0010\n",
      "Epoch 17/10000\n",
      "4/4 [==============================] - 0s 17ms/step - loss: 1.2797 - val_loss: 1.2639 - lr: 0.0010\n",
      "Epoch 18/10000\n",
      "4/4 [==============================] - 0s 19ms/step - loss: 1.2520 - val_loss: 1.2352 - lr: 0.0010\n",
      "Epoch 19/10000\n",
      "4/4 [==============================] - 0s 16ms/step - loss: 1.2269 - val_loss: 1.2092 - lr: 0.0010\n",
      "Epoch 20/10000\n",
      "4/4 [==============================] - 0s 17ms/step - loss: 1.2045 - val_loss: 1.1858 - lr: 0.0010\n",
      "Epoch 21/10000\n",
      "4/4 [==============================] - 0s 17ms/step - loss: 1.1840 - val_loss: 1.1646 - lr: 0.0010\n",
      "Epoch 22/10000\n",
      "4/4 [==============================] - 0s 17ms/step - loss: 1.1654 - val_loss: 1.1453 - lr: 0.0010\n",
      "Epoch 23/10000\n",
      "4/4 [==============================] - 0s 17ms/step - loss: 1.1483 - val_loss: 1.1276 - lr: 0.0010\n",
      "Epoch 24/10000\n",
      "4/4 [==============================] - 0s 17ms/step - loss: 1.1323 - val_loss: 1.1112 - lr: 0.0010\n",
      "Epoch 25/10000\n",
      "4/4 [==============================] - 0s 16ms/step - loss: 1.1175 - val_loss: 1.0959 - lr: 0.0010\n",
      "Epoch 26/10000\n",
      "4/4 [==============================] - 0s 17ms/step - loss: 1.1036 - val_loss: 1.0816 - lr: 0.0010\n",
      "Epoch 27/10000\n",
      "4/4 [==============================] - 0s 16ms/step - loss: 1.0905 - val_loss: 1.0684 - lr: 0.0010\n",
      "Epoch 28/10000\n",
      "4/4 [==============================] - 0s 17ms/step - loss: 1.0782 - val_loss: 1.0562 - lr: 0.0010\n",
      "Epoch 29/10000\n",
      "4/4 [==============================] - 0s 17ms/step - loss: 1.0662 - val_loss: 1.0446 - lr: 0.0010\n",
      "Epoch 30/10000\n",
      "4/4 [==============================] - 0s 17ms/step - loss: 1.0548 - val_loss: 1.0337 - lr: 0.0010\n",
      "Epoch 31/10000\n",
      "4/4 [==============================] - 0s 17ms/step - loss: 1.0437 - val_loss: 1.0231 - lr: 0.0010\n",
      "Epoch 32/10000\n",
      "4/4 [==============================] - 0s 17ms/step - loss: 1.0331 - val_loss: 1.0128 - lr: 0.0010\n",
      "Epoch 33/10000\n",
      "4/4 [==============================] - 0s 17ms/step - loss: 1.0228 - val_loss: 1.0029 - lr: 0.0010\n",
      "Epoch 34/10000\n",
      "4/4 [==============================] - 0s 17ms/step - loss: 1.0127 - val_loss: 0.9935 - lr: 0.0010\n",
      "Epoch 35/10000\n",
      "4/4 [==============================] - 0s 18ms/step - loss: 1.0029 - val_loss: 0.9840 - lr: 0.0010\n",
      "Epoch 36/10000\n",
      "4/4 [==============================] - 0s 18ms/step - loss: 0.9934 - val_loss: 0.9746 - lr: 0.0010\n",
      "Epoch 37/10000\n",
      "4/4 [==============================] - 0s 18ms/step - loss: 0.9840 - val_loss: 0.9653 - lr: 0.0010\n",
      "Epoch 38/10000\n",
      "4/4 [==============================] - 0s 19ms/step - loss: 0.9748 - val_loss: 0.9563 - lr: 0.0010\n",
      "Epoch 39/10000\n",
      "4/4 [==============================] - 0s 21ms/step - loss: 0.9659 - val_loss: 0.9473 - lr: 0.0010\n",
      "Epoch 40/10000\n",
      "4/4 [==============================] - 0s 18ms/step - loss: 0.9569 - val_loss: 0.9386 - lr: 0.0010\n",
      "Epoch 41/10000\n",
      "4/4 [==============================] - 0s 17ms/step - loss: 0.9482 - val_loss: 0.9299 - lr: 0.0010\n",
      "Epoch 42/10000\n",
      "4/4 [==============================] - 0s 18ms/step - loss: 0.9397 - val_loss: 0.9210 - lr: 0.0010\n",
      "Epoch 43/10000\n",
      "4/4 [==============================] - 0s 19ms/step - loss: 0.9312 - val_loss: 0.9124 - lr: 0.0010\n",
      "Epoch 44/10000\n",
      "4/4 [==============================] - 0s 19ms/step - loss: 0.9229 - val_loss: 0.9041 - lr: 0.0010\n",
      "Epoch 45/10000\n",
      "4/4 [==============================] - 0s 18ms/step - loss: 0.9146 - val_loss: 0.8960 - lr: 0.0010\n",
      "Epoch 46/10000\n",
      "4/4 [==============================] - 0s 18ms/step - loss: 0.9064 - val_loss: 0.8883 - lr: 0.0010\n",
      "Epoch 47/10000\n",
      "4/4 [==============================] - 0s 19ms/step - loss: 0.8984 - val_loss: 0.8805 - lr: 0.0010\n",
      "Epoch 48/10000\n",
      "4/4 [==============================] - 0s 18ms/step - loss: 0.8904 - val_loss: 0.8728 - lr: 0.0010\n",
      "Epoch 49/10000\n",
      "4/4 [==============================] - 0s 18ms/step - loss: 0.8825 - val_loss: 0.8650 - lr: 0.0010\n",
      "Epoch 50/10000\n",
      "4/4 [==============================] - 0s 20ms/step - loss: 0.8747 - val_loss: 0.8571 - lr: 0.0010\n",
      "Epoch 51/10000\n",
      "4/4 [==============================] - 0s 19ms/step - loss: 0.8669 - val_loss: 0.8493 - lr: 0.0010\n",
      "Epoch 52/10000\n",
      "4/4 [==============================] - 0s 18ms/step - loss: 0.8592 - val_loss: 0.8415 - lr: 0.0010\n",
      "Epoch 53/10000\n",
      "4/4 [==============================] - 0s 19ms/step - loss: 0.8516 - val_loss: 0.8339 - lr: 0.0010\n",
      "Epoch 54/10000\n",
      "4/4 [==============================] - 0s 18ms/step - loss: 0.8441 - val_loss: 0.8268 - lr: 0.0010\n",
      "Epoch 55/10000\n",
      "4/4 [==============================] - 0s 17ms/step - loss: 0.8366 - val_loss: 0.8198 - lr: 0.0010\n",
      "Epoch 56/10000\n",
      "4/4 [==============================] - 0s 20ms/step - loss: 0.8291 - val_loss: 0.8124 - lr: 0.0010\n",
      "Epoch 57/10000\n",
      "4/4 [==============================] - 0s 19ms/step - loss: 0.8218 - val_loss: 0.8050 - lr: 0.0010\n",
      "Epoch 58/10000\n",
      "4/4 [==============================] - 0s 20ms/step - loss: 0.8145 - val_loss: 0.7977 - lr: 0.0010\n",
      "Epoch 59/10000\n",
      "4/4 [==============================] - 0s 19ms/step - loss: 0.8073 - val_loss: 0.7909 - lr: 0.0010\n",
      "Epoch 60/10000\n",
      "4/4 [==============================] - 0s 18ms/step - loss: 0.8001 - val_loss: 0.7837 - lr: 0.0010\n",
      "Epoch 61/10000\n",
      "4/4 [==============================] - 0s 18ms/step - loss: 0.7929 - val_loss: 0.7768 - lr: 0.0010\n",
      "Epoch 62/10000\n",
      "4/4 [==============================] - 0s 18ms/step - loss: 0.7859 - val_loss: 0.7699 - lr: 0.0010\n",
      "Epoch 63/10000\n",
      "4/4 [==============================] - 0s 20ms/step - loss: 0.7788 - val_loss: 0.7628 - lr: 0.0010\n",
      "Epoch 64/10000\n",
      "4/4 [==============================] - 0s 19ms/step - loss: 0.7719 - val_loss: 0.7556 - lr: 0.0010\n",
      "Epoch 65/10000\n",
      "4/4 [==============================] - 0s 19ms/step - loss: 0.7650 - val_loss: 0.7483 - lr: 0.0010\n",
      "Epoch 66/10000\n",
      "4/4 [==============================] - 0s 18ms/step - loss: 0.7581 - val_loss: 0.7414 - lr: 0.0010\n",
      "Epoch 67/10000\n",
      "4/4 [==============================] - 0s 19ms/step - loss: 0.7513 - val_loss: 0.7350 - lr: 0.0010\n",
      "Epoch 68/10000\n",
      "4/4 [==============================] - 0s 19ms/step - loss: 0.7445 - val_loss: 0.7283 - lr: 0.0010\n",
      "Epoch 69/10000\n",
      "4/4 [==============================] - 0s 18ms/step - loss: 0.7378 - val_loss: 0.7219 - lr: 0.0010\n",
      "Epoch 70/10000\n",
      "4/4 [==============================] - 0s 19ms/step - loss: 0.7312 - val_loss: 0.7154 - lr: 0.0010\n",
      "Epoch 71/10000\n",
      "4/4 [==============================] - 0s 18ms/step - loss: 0.7245 - val_loss: 0.7081 - lr: 0.0010\n",
      "Epoch 72/10000\n",
      "4/4 [==============================] - 0s 17ms/step - loss: 0.7180 - val_loss: 0.7008 - lr: 0.0010\n",
      "Epoch 73/10000\n",
      "4/4 [==============================] - 0s 18ms/step - loss: 0.7115 - val_loss: 0.6944 - lr: 0.0010\n",
      "Epoch 74/10000\n",
      "4/4 [==============================] - 0s 20ms/step - loss: 0.7050 - val_loss: 0.6891 - lr: 0.0010\n",
      "Epoch 75/10000\n",
      "4/4 [==============================] - 0s 22ms/step - loss: 0.6986 - val_loss: 0.6833 - lr: 0.0010\n",
      "Epoch 76/10000\n",
      "4/4 [==============================] - 0s 21ms/step - loss: 0.6922 - val_loss: 0.6774 - lr: 0.0010\n",
      "Epoch 77/10000\n",
      "4/4 [==============================] - 0s 21ms/step - loss: 0.6858 - val_loss: 0.6714 - lr: 0.0010\n",
      "Epoch 78/10000\n",
      "4/4 [==============================] - 0s 19ms/step - loss: 0.6796 - val_loss: 0.6652 - lr: 0.0010\n",
      "Epoch 79/10000\n",
      "4/4 [==============================] - 0s 19ms/step - loss: 0.6734 - val_loss: 0.6592 - lr: 0.0010\n",
      "Epoch 80/10000\n",
      "4/4 [==============================] - 0s 20ms/step - loss: 0.6672 - val_loss: 0.6524 - lr: 0.0010\n",
      "Epoch 81/10000\n",
      "4/4 [==============================] - 0s 19ms/step - loss: 0.6611 - val_loss: 0.6457 - lr: 0.0010\n",
      "Epoch 82/10000\n",
      "4/4 [==============================] - 0s 19ms/step - loss: 0.6550 - val_loss: 0.6392 - lr: 0.0010\n",
      "Epoch 83/10000\n",
      "4/4 [==============================] - 0s 25ms/step - loss: 0.6489 - val_loss: 0.6335 - lr: 0.0010\n",
      "Epoch 84/10000\n",
      "4/4 [==============================] - 0s 19ms/step - loss: 0.6429 - val_loss: 0.6270 - lr: 0.0010\n",
      "Epoch 85/10000\n",
      "4/4 [==============================] - 0s 20ms/step - loss: 0.6370 - val_loss: 0.6212 - lr: 0.0010\n",
      "Epoch 86/10000\n",
      "4/4 [==============================] - 0s 20ms/step - loss: 0.6311 - val_loss: 0.6161 - lr: 0.0010\n",
      "Epoch 87/10000\n",
      "4/4 [==============================] - 0s 20ms/step - loss: 0.6252 - val_loss: 0.6112 - lr: 0.0010\n",
      "Epoch 88/10000\n",
      "4/4 [==============================] - 0s 18ms/step - loss: 0.6194 - val_loss: 0.6053 - lr: 0.0010\n",
      "Epoch 89/10000\n",
      "4/4 [==============================] - 0s 19ms/step - loss: 0.6136 - val_loss: 0.5992 - lr: 0.0010\n",
      "Epoch 90/10000\n",
      "4/4 [==============================] - 0s 20ms/step - loss: 0.6078 - val_loss: 0.5926 - lr: 0.0010\n",
      "Epoch 91/10000\n",
      "4/4 [==============================] - 0s 18ms/step - loss: 0.6022 - val_loss: 0.5861 - lr: 0.0010\n",
      "Epoch 92/10000\n",
      "4/4 [==============================] - 0s 21ms/step - loss: 0.5966 - val_loss: 0.5809 - lr: 0.0010\n",
      "Epoch 93/10000\n",
      "4/4 [==============================] - 0s 21ms/step - loss: 0.5910 - val_loss: 0.5765 - lr: 0.0010\n",
      "Epoch 94/10000\n",
      "4/4 [==============================] - 0s 19ms/step - loss: 0.5854 - val_loss: 0.5716 - lr: 0.0010\n",
      "Epoch 95/10000\n",
      "4/4 [==============================] - 0s 21ms/step - loss: 0.5799 - val_loss: 0.5656 - lr: 0.0010\n",
      "Epoch 96/10000\n",
      "4/4 [==============================] - 0s 21ms/step - loss: 0.5744 - val_loss: 0.5594 - lr: 0.0010\n",
      "Epoch 97/10000\n",
      "4/4 [==============================] - 0s 24ms/step - loss: 0.5690 - val_loss: 0.5532 - lr: 0.0010\n",
      "Epoch 98/10000\n",
      "4/4 [==============================] - 0s 19ms/step - loss: 0.5636 - val_loss: 0.5473 - lr: 0.0010\n",
      "Epoch 99/10000\n",
      "4/4 [==============================] - 0s 19ms/step - loss: 0.5583 - val_loss: 0.5424 - lr: 0.0010\n",
      "Epoch 100/10000\n",
      "4/4 [==============================] - 0s 19ms/step - loss: 0.5529 - val_loss: 0.5383 - lr: 0.0010\n",
      "Epoch 101/10000\n",
      "4/4 [==============================] - 0s 19ms/step - loss: 0.5476 - val_loss: 0.5341 - lr: 0.0010\n",
      "Epoch 102/10000\n",
      "4/4 [==============================] - 0s 19ms/step - loss: 0.5424 - val_loss: 0.5293 - lr: 0.0010\n",
      "Epoch 103/10000\n",
      "4/4 [==============================] - 0s 19ms/step - loss: 0.5372 - val_loss: 0.5236 - lr: 0.0010\n",
      "Epoch 104/10000\n",
      "4/4 [==============================] - 0s 21ms/step - loss: 0.5321 - val_loss: 0.5177 - lr: 0.0010\n",
      "Epoch 105/10000\n",
      "4/4 [==============================] - 0s 22ms/step - loss: 0.5270 - val_loss: 0.5115 - lr: 0.0010\n",
      "Epoch 106/10000\n",
      "4/4 [==============================] - 0s 21ms/step - loss: 0.5219 - val_loss: 0.5066 - lr: 0.0010\n",
      "Epoch 107/10000\n",
      "4/4 [==============================] - 0s 21ms/step - loss: 0.5169 - val_loss: 0.5024 - lr: 0.0010\n",
      "Epoch 108/10000\n",
      "4/4 [==============================] - 0s 26ms/step - loss: 0.5119 - val_loss: 0.4988 - lr: 0.0010\n",
      "Epoch 109/10000\n",
      "4/4 [==============================] - 0s 20ms/step - loss: 0.5070 - val_loss: 0.4950 - lr: 0.0010\n",
      "Epoch 110/10000\n",
      "4/4 [==============================] - 0s 21ms/step - loss: 0.5022 - val_loss: 0.4899 - lr: 0.0010\n",
      "Epoch 111/10000\n",
      "4/4 [==============================] - 0s 21ms/step - loss: 0.4972 - val_loss: 0.4829 - lr: 0.0010\n",
      "Epoch 112/10000\n",
      "4/4 [==============================] - 0s 20ms/step - loss: 0.4924 - val_loss: 0.4762 - lr: 0.0010\n",
      "Epoch 113/10000\n",
      "4/4 [==============================] - 0s 21ms/step - loss: 0.4877 - val_loss: 0.4710 - lr: 0.0010\n",
      "Epoch 114/10000\n",
      "4/4 [==============================] - 0s 23ms/step - loss: 0.4830 - val_loss: 0.4672 - lr: 0.0010\n",
      "Epoch 115/10000\n",
      "4/4 [==============================] - 0s 24ms/step - loss: 0.4781 - val_loss: 0.4639 - lr: 0.0010\n",
      "Epoch 116/10000\n",
      "4/4 [==============================] - 0s 22ms/step - loss: 0.4734 - val_loss: 0.4603 - lr: 0.0010\n",
      "Epoch 117/10000\n",
      "4/4 [==============================] - 0s 22ms/step - loss: 0.4688 - val_loss: 0.4560 - lr: 0.0010\n",
      "Epoch 118/10000\n",
      "4/4 [==============================] - 0s 21ms/step - loss: 0.4643 - val_loss: 0.4511 - lr: 0.0010\n",
      "Epoch 119/10000\n",
      "4/4 [==============================] - 0s 20ms/step - loss: 0.4596 - val_loss: 0.4462 - lr: 0.0010\n",
      "Epoch 120/10000\n",
      "4/4 [==============================] - 0s 20ms/step - loss: 0.4551 - val_loss: 0.4416 - lr: 0.0010\n",
      "Epoch 121/10000\n",
      "4/4 [==============================] - 0s 20ms/step - loss: 0.4506 - val_loss: 0.4365 - lr: 0.0010\n",
      "Epoch 122/10000\n",
      "4/4 [==============================] - 0s 19ms/step - loss: 0.4462 - val_loss: 0.4319 - lr: 0.0010\n",
      "Epoch 123/10000\n",
      "4/4 [==============================] - 0s 20ms/step - loss: 0.4417 - val_loss: 0.4287 - lr: 0.0010\n",
      "Epoch 124/10000\n",
      "4/4 [==============================] - 0s 19ms/step - loss: 0.4374 - val_loss: 0.4231 - lr: 0.0010\n",
      "Epoch 125/10000\n",
      "4/4 [==============================] - 0s 19ms/step - loss: 0.4330 - val_loss: 0.4180 - lr: 0.0010\n",
      "Epoch 126/10000\n",
      "4/4 [==============================] - 0s 19ms/step - loss: 0.4288 - val_loss: 0.4140 - lr: 0.0010\n",
      "Epoch 127/10000\n",
      "4/4 [==============================] - 0s 19ms/step - loss: 0.4245 - val_loss: 0.4111 - lr: 0.0010\n",
      "Epoch 128/10000\n",
      "4/4 [==============================] - 0s 20ms/step - loss: 0.4202 - val_loss: 0.4070 - lr: 0.0010\n",
      "Epoch 129/10000\n",
      "4/4 [==============================] - 0s 20ms/step - loss: 0.4160 - val_loss: 0.4024 - lr: 0.0010\n",
      "Epoch 130/10000\n",
      "4/4 [==============================] - 0s 20ms/step - loss: 0.4118 - val_loss: 0.3983 - lr: 0.0010\n",
      "Epoch 131/10000\n",
      "4/4 [==============================] - 0s 25ms/step - loss: 0.4077 - val_loss: 0.3941 - lr: 0.0010\n",
      "Epoch 132/10000\n",
      "4/4 [==============================] - 0s 22ms/step - loss: 0.4036 - val_loss: 0.3891 - lr: 0.0010\n",
      "Epoch 133/10000\n",
      "4/4 [==============================] - 0s 20ms/step - loss: 0.3996 - val_loss: 0.3848 - lr: 0.0010\n",
      "Epoch 134/10000\n",
      "4/4 [==============================] - 0s 20ms/step - loss: 0.3956 - val_loss: 0.3815 - lr: 0.0010\n",
      "Epoch 135/10000\n",
      "4/4 [==============================] - 0s 21ms/step - loss: 0.3916 - val_loss: 0.3785 - lr: 0.0010\n",
      "Epoch 136/10000\n",
      "4/4 [==============================] - 0s 19ms/step - loss: 0.3876 - val_loss: 0.3748 - lr: 0.0010\n",
      "Epoch 137/10000\n",
      "4/4 [==============================] - 0s 21ms/step - loss: 0.3837 - val_loss: 0.3708 - lr: 0.0010\n",
      "Epoch 138/10000\n",
      "4/4 [==============================] - 0s 20ms/step - loss: 0.3798 - val_loss: 0.3665 - lr: 0.0010\n",
      "Epoch 139/10000\n",
      "4/4 [==============================] - 0s 22ms/step - loss: 0.3759 - val_loss: 0.3624 - lr: 0.0010\n",
      "Epoch 140/10000\n",
      "4/4 [==============================] - 0s 24ms/step - loss: 0.3721 - val_loss: 0.3580 - lr: 0.0010\n",
      "Epoch 141/10000\n",
      "4/4 [==============================] - 0s 19ms/step - loss: 0.3683 - val_loss: 0.3547 - lr: 0.0010\n",
      "Epoch 142/10000\n",
      "4/4 [==============================] - 0s 19ms/step - loss: 0.3645 - val_loss: 0.3518 - lr: 0.0010\n",
      "Epoch 143/10000\n",
      "4/4 [==============================] - 0s 20ms/step - loss: 0.3608 - val_loss: 0.3487 - lr: 0.0010\n",
      "Epoch 144/10000\n",
      "4/4 [==============================] - 0s 19ms/step - loss: 0.3572 - val_loss: 0.3444 - lr: 0.0010\n",
      "Epoch 145/10000\n",
      "4/4 [==============================] - 0s 20ms/step - loss: 0.3535 - val_loss: 0.3388 - lr: 0.0010\n",
      "Epoch 146/10000\n",
      "4/4 [==============================] - 0s 19ms/step - loss: 0.3499 - val_loss: 0.3351 - lr: 0.0010\n",
      "Epoch 147/10000\n",
      "4/4 [==============================] - 0s 20ms/step - loss: 0.3463 - val_loss: 0.3328 - lr: 0.0010\n",
      "Epoch 148/10000\n",
      "4/4 [==============================] - 0s 20ms/step - loss: 0.3427 - val_loss: 0.3303 - lr: 0.0010\n",
      "Epoch 149/10000\n",
      "4/4 [==============================] - 0s 21ms/step - loss: 0.3392 - val_loss: 0.3273 - lr: 0.0010\n",
      "Epoch 150/10000\n",
      "4/4 [==============================] - 0s 19ms/step - loss: 0.3357 - val_loss: 0.3226 - lr: 0.0010\n",
      "Epoch 151/10000\n",
      "4/4 [==============================] - 0s 21ms/step - loss: 0.3322 - val_loss: 0.3185 - lr: 0.0010\n",
      "Epoch 152/10000\n",
      "4/4 [==============================] - 0s 21ms/step - loss: 0.3287 - val_loss: 0.3159 - lr: 0.0010\n",
      "Epoch 153/10000\n",
      "4/4 [==============================] - 0s 21ms/step - loss: 0.3253 - val_loss: 0.3131 - lr: 0.0010\n",
      "Epoch 154/10000\n",
      "4/4 [==============================] - 0s 20ms/step - loss: 0.3219 - val_loss: 0.3098 - lr: 0.0010\n",
      "Epoch 155/10000\n",
      "4/4 [==============================] - 0s 20ms/step - loss: 0.3186 - val_loss: 0.3061 - lr: 0.0010\n",
      "Epoch 156/10000\n",
      "4/4 [==============================] - 0s 23ms/step - loss: 0.3152 - val_loss: 0.3024 - lr: 0.0010\n",
      "Epoch 157/10000\n",
      "4/4 [==============================] - 0s 21ms/step - loss: 0.3120 - val_loss: 0.2991 - lr: 0.0010\n",
      "Epoch 158/10000\n",
      "4/4 [==============================] - 0s 19ms/step - loss: 0.3087 - val_loss: 0.2972 - lr: 0.0010\n",
      "Epoch 159/10000\n",
      "4/4 [==============================] - 0s 20ms/step - loss: 0.3055 - val_loss: 0.2947 - lr: 0.0010\n",
      "Epoch 160/10000\n",
      "4/4 [==============================] - 0s 22ms/step - loss: 0.3023 - val_loss: 0.2902 - lr: 0.0010\n",
      "Epoch 161/10000\n",
      "4/4 [==============================] - 0s 20ms/step - loss: 0.2991 - val_loss: 0.2845 - lr: 0.0010\n",
      "Epoch 162/10000\n",
      "4/4 [==============================] - 0s 21ms/step - loss: 0.2960 - val_loss: 0.2814 - lr: 0.0010\n",
      "Epoch 163/10000\n",
      "4/4 [==============================] - 0s 19ms/step - loss: 0.2928 - val_loss: 0.2794 - lr: 0.0010\n",
      "Epoch 164/10000\n",
      "4/4 [==============================] - 0s 21ms/step - loss: 0.2897 - val_loss: 0.2772 - lr: 0.0010\n",
      "Epoch 165/10000\n",
      "4/4 [==============================] - 0s 21ms/step - loss: 0.2867 - val_loss: 0.2741 - lr: 0.0010\n",
      "Epoch 166/10000\n",
      "4/4 [==============================] - 0s 21ms/step - loss: 0.2836 - val_loss: 0.2706 - lr: 0.0010\n",
      "Epoch 167/10000\n",
      "4/4 [==============================] - 0s 22ms/step - loss: 0.2806 - val_loss: 0.2664 - lr: 0.0010\n",
      "Epoch 168/10000\n",
      "4/4 [==============================] - 0s 22ms/step - loss: 0.2777 - val_loss: 0.2638 - lr: 0.0010\n",
      "Epoch 169/10000\n",
      "4/4 [==============================] - 0s 22ms/step - loss: 0.2747 - val_loss: 0.2618 - lr: 0.0010\n",
      "Epoch 170/10000\n",
      "4/4 [==============================] - 0s 25ms/step - loss: 0.2718 - val_loss: 0.2599 - lr: 0.0010\n",
      "Epoch 171/10000\n",
      "4/4 [==============================] - 0s 22ms/step - loss: 0.2689 - val_loss: 0.2569 - lr: 0.0010\n",
      "Epoch 172/10000\n",
      "4/4 [==============================] - 0s 22ms/step - loss: 0.2660 - val_loss: 0.2528 - lr: 0.0010\n",
      "Epoch 173/10000\n",
      "4/4 [==============================] - 0s 20ms/step - loss: 0.2632 - val_loss: 0.2496 - lr: 0.0010\n",
      "Epoch 174/10000\n",
      "4/4 [==============================] - 0s 21ms/step - loss: 0.2604 - val_loss: 0.2482 - lr: 0.0010\n",
      "Epoch 175/10000\n",
      "4/4 [==============================] - 0s 20ms/step - loss: 0.2576 - val_loss: 0.2459 - lr: 0.0010\n",
      "Epoch 176/10000\n",
      "4/4 [==============================] - 0s 21ms/step - loss: 0.2549 - val_loss: 0.2417 - lr: 0.0010\n",
      "Epoch 177/10000\n",
      "4/4 [==============================] - 0s 20ms/step - loss: 0.2521 - val_loss: 0.2379 - lr: 0.0010\n",
      "Epoch 178/10000\n",
      "4/4 [==============================] - 0s 22ms/step - loss: 0.2495 - val_loss: 0.2343 - lr: 0.0010\n",
      "Epoch 179/10000\n",
      "4/4 [==============================] - 0s 21ms/step - loss: 0.2468 - val_loss: 0.2325 - lr: 0.0010\n",
      "Epoch 180/10000\n",
      "4/4 [==============================] - 0s 21ms/step - loss: 0.2441 - val_loss: 0.2317 - lr: 0.0010\n",
      "Epoch 181/10000\n",
      "4/4 [==============================] - 0s 18ms/step - loss: 0.2414 - val_loss: 0.2298 - lr: 0.0010\n",
      "Epoch 182/10000\n",
      "4/4 [==============================] - 0s 19ms/step - loss: 0.2388 - val_loss: 0.2275 - lr: 0.0010\n",
      "Epoch 183/10000\n",
      "4/4 [==============================] - 0s 19ms/step - loss: 0.2363 - val_loss: 0.2253 - lr: 0.0010\n",
      "Epoch 184/10000\n",
      "4/4 [==============================] - 0s 20ms/step - loss: 0.2337 - val_loss: 0.2219 - lr: 0.0010\n",
      "Epoch 185/10000\n",
      "4/4 [==============================] - 0s 19ms/step - loss: 0.2311 - val_loss: 0.2189 - lr: 0.0010\n",
      "Epoch 186/10000\n",
      "4/4 [==============================] - 0s 19ms/step - loss: 0.2286 - val_loss: 0.2165 - lr: 0.0010\n",
      "Epoch 187/10000\n",
      "4/4 [==============================] - 0s 21ms/step - loss: 0.2262 - val_loss: 0.2141 - lr: 0.0010\n",
      "Epoch 188/10000\n",
      "4/4 [==============================] - 0s 20ms/step - loss: 0.2237 - val_loss: 0.2113 - lr: 0.0010\n",
      "Epoch 189/10000\n",
      "4/4 [==============================] - 0s 21ms/step - loss: 0.2213 - val_loss: 0.2089 - lr: 0.0010\n",
      "Epoch 190/10000\n",
      "4/4 [==============================] - 0s 20ms/step - loss: 0.2188 - val_loss: 0.2066 - lr: 0.0010\n",
      "Epoch 191/10000\n",
      "4/4 [==============================] - 0s 21ms/step - loss: 0.2165 - val_loss: 0.2042 - lr: 0.0010\n",
      "Epoch 192/10000\n",
      "4/4 [==============================] - 0s 20ms/step - loss: 0.2141 - val_loss: 0.2015 - lr: 0.0010\n",
      "Epoch 193/10000\n",
      "4/4 [==============================] - 0s 19ms/step - loss: 0.2118 - val_loss: 0.1989 - lr: 0.0010\n",
      "Epoch 194/10000\n",
      "4/4 [==============================] - 0s 19ms/step - loss: 0.2095 - val_loss: 0.1962 - lr: 0.0010\n",
      "Epoch 195/10000\n",
      "4/4 [==============================] - 0s 22ms/step - loss: 0.2072 - val_loss: 0.1946 - lr: 0.0010\n",
      "Epoch 196/10000\n",
      "4/4 [==============================] - 0s 20ms/step - loss: 0.2049 - val_loss: 0.1936 - lr: 0.0010\n",
      "Epoch 197/10000\n",
      "4/4 [==============================] - 0s 21ms/step - loss: 0.2027 - val_loss: 0.1913 - lr: 0.0010\n",
      "Epoch 198/10000\n",
      "4/4 [==============================] - 0s 19ms/step - loss: 0.2004 - val_loss: 0.1883 - lr: 0.0010\n",
      "Epoch 199/10000\n",
      "4/4 [==============================] - 0s 19ms/step - loss: 0.1983 - val_loss: 0.1871 - lr: 0.0010\n",
      "Epoch 200/10000\n",
      "4/4 [==============================] - 0s 19ms/step - loss: 0.1961 - val_loss: 0.1858 - lr: 0.0010\n",
      "Epoch 201/10000\n",
      "4/4 [==============================] - 0s 20ms/step - loss: 0.1940 - val_loss: 0.1827 - lr: 0.0010\n",
      "Epoch 202/10000\n",
      "4/4 [==============================] - 0s 20ms/step - loss: 0.1918 - val_loss: 0.1788 - lr: 0.0010\n",
      "Epoch 203/10000\n",
      "4/4 [==============================] - 0s 21ms/step - loss: 0.1897 - val_loss: 0.1753 - lr: 0.0010\n",
      "Epoch 204/10000\n",
      "4/4 [==============================] - 0s 20ms/step - loss: 0.1877 - val_loss: 0.1737 - lr: 0.0010\n",
      "Epoch 205/10000\n",
      "4/4 [==============================] - 0s 19ms/step - loss: 0.1855 - val_loss: 0.1736 - lr: 0.0010\n",
      "Epoch 206/10000\n",
      "4/4 [==============================] - 0s 19ms/step - loss: 0.1835 - val_loss: 0.1729 - lr: 0.0010\n",
      "Epoch 207/10000\n",
      "4/4 [==============================] - 0s 19ms/step - loss: 0.1815 - val_loss: 0.1690 - lr: 0.0010\n",
      "Epoch 208/10000\n",
      "4/4 [==============================] - 0s 19ms/step - loss: 0.1795 - val_loss: 0.1655 - lr: 0.0010\n",
      "Epoch 209/10000\n",
      "4/4 [==============================] - 0s 20ms/step - loss: 0.1775 - val_loss: 0.1645 - lr: 0.0010\n",
      "Epoch 210/10000\n",
      "4/4 [==============================] - 0s 19ms/step - loss: 0.1755 - val_loss: 0.1648 - lr: 0.0010\n",
      "Epoch 211/10000\n",
      "4/4 [==============================] - 0s 21ms/step - loss: 0.1736 - val_loss: 0.1645 - lr: 0.0010\n",
      "Epoch 212/10000\n",
      "4/4 [==============================] - 0s 19ms/step - loss: 0.1718 - val_loss: 0.1614 - lr: 0.0010\n",
      "Epoch 213/10000\n",
      "4/4 [==============================] - 0s 20ms/step - loss: 0.1697 - val_loss: 0.1574 - lr: 0.0010\n",
      "Epoch 214/10000\n",
      "4/4 [==============================] - 0s 20ms/step - loss: 0.1679 - val_loss: 0.1535 - lr: 0.0010\n",
      "Epoch 215/10000\n",
      "4/4 [==============================] - 0s 20ms/step - loss: 0.1661 - val_loss: 0.1530 - lr: 0.0010\n",
      "Epoch 216/10000\n",
      "4/4 [==============================] - 0s 21ms/step - loss: 0.1642 - val_loss: 0.1534 - lr: 0.0010\n",
      "Epoch 217/10000\n",
      "4/4 [==============================] - 0s 22ms/step - loss: 0.1624 - val_loss: 0.1509 - lr: 0.0010\n",
      "Epoch 218/10000\n",
      "4/4 [==============================] - 0s 19ms/step - loss: 0.1605 - val_loss: 0.1481 - lr: 0.0010\n",
      "Epoch 219/10000\n",
      "4/4 [==============================] - 0s 20ms/step - loss: 0.1588 - val_loss: 0.1463 - lr: 0.0010\n",
      "Epoch 220/10000\n",
      "4/4 [==============================] - 0s 19ms/step - loss: 0.1570 - val_loss: 0.1450 - lr: 0.0010\n",
      "Epoch 221/10000\n",
      "4/4 [==============================] - 0s 19ms/step - loss: 0.1552 - val_loss: 0.1435 - lr: 0.0010\n",
      "Epoch 222/10000\n",
      "4/4 [==============================] - 0s 19ms/step - loss: 0.1535 - val_loss: 0.1403 - lr: 0.0010\n",
      "Epoch 223/10000\n",
      "4/4 [==============================] - 0s 19ms/step - loss: 0.1519 - val_loss: 0.1382 - lr: 0.0010\n",
      "Epoch 224/10000\n",
      "4/4 [==============================] - 0s 20ms/step - loss: 0.1502 - val_loss: 0.1379 - lr: 0.0010\n",
      "Epoch 225/10000\n",
      "4/4 [==============================] - 0s 20ms/step - loss: 0.1485 - val_loss: 0.1372 - lr: 0.0010\n",
      "Epoch 226/10000\n",
      "4/4 [==============================] - 0s 19ms/step - loss: 0.1468 - val_loss: 0.1353 - lr: 0.0010\n",
      "Epoch 227/10000\n",
      "4/4 [==============================] - 0s 19ms/step - loss: 0.1452 - val_loss: 0.1332 - lr: 0.0010\n",
      "Epoch 228/10000\n",
      "4/4 [==============================] - 0s 18ms/step - loss: 0.1435 - val_loss: 0.1313 - lr: 0.0010\n",
      "Epoch 229/10000\n",
      "4/4 [==============================] - 0s 20ms/step - loss: 0.1420 - val_loss: 0.1300 - lr: 0.0010\n",
      "Epoch 230/10000\n",
      "4/4 [==============================] - 0s 20ms/step - loss: 0.1404 - val_loss: 0.1290 - lr: 0.0010\n",
      "Epoch 231/10000\n",
      "4/4 [==============================] - 0s 19ms/step - loss: 0.1388 - val_loss: 0.1275 - lr: 0.0010\n",
      "Epoch 232/10000\n",
      "4/4 [==============================] - 0s 20ms/step - loss: 0.1373 - val_loss: 0.1263 - lr: 0.0010\n",
      "Epoch 233/10000\n",
      "4/4 [==============================] - 0s 19ms/step - loss: 0.1358 - val_loss: 0.1253 - lr: 0.0010\n",
      "Epoch 234/10000\n",
      "4/4 [==============================] - 0s 20ms/step - loss: 0.1342 - val_loss: 0.1217 - lr: 0.0010\n",
      "Epoch 235/10000\n",
      "4/4 [==============================] - 0s 19ms/step - loss: 0.1327 - val_loss: 0.1196 - lr: 0.0010\n",
      "Epoch 236/10000\n",
      "4/4 [==============================] - 0s 19ms/step - loss: 0.1313 - val_loss: 0.1192 - lr: 0.0010\n",
      "Epoch 237/10000\n",
      "4/4 [==============================] - 0s 19ms/step - loss: 0.1298 - val_loss: 0.1196 - lr: 0.0010\n",
      "Epoch 238/10000\n",
      "4/4 [==============================] - 0s 19ms/step - loss: 0.1284 - val_loss: 0.1178 - lr: 0.0010\n",
      "Epoch 239/10000\n",
      "4/4 [==============================] - 0s 19ms/step - loss: 0.1270 - val_loss: 0.1151 - lr: 0.0010\n",
      "Epoch 240/10000\n",
      "4/4 [==============================] - 0s 20ms/step - loss: 0.1255 - val_loss: 0.1143 - lr: 0.0010\n",
      "Epoch 241/10000\n",
      "4/4 [==============================] - 0s 20ms/step - loss: 0.1241 - val_loss: 0.1131 - lr: 0.0010\n",
      "Epoch 242/10000\n",
      "4/4 [==============================] - 0s 19ms/step - loss: 0.1228 - val_loss: 0.1096 - lr: 0.0010\n",
      "Epoch 243/10000\n",
      "4/4 [==============================] - 0s 21ms/step - loss: 0.1215 - val_loss: 0.1084 - lr: 0.0010\n",
      "Epoch 244/10000\n",
      "4/4 [==============================] - 0s 21ms/step - loss: 0.1201 - val_loss: 0.1087 - lr: 0.0010\n",
      "Epoch 245/10000\n",
      "4/4 [==============================] - 0s 20ms/step - loss: 0.1187 - val_loss: 0.1079 - lr: 0.0010\n",
      "Epoch 246/10000\n",
      "4/4 [==============================] - 0s 20ms/step - loss: 0.1174 - val_loss: 0.1067 - lr: 0.0010\n",
      "Epoch 247/10000\n",
      "4/4 [==============================] - 0s 19ms/step - loss: 0.1161 - val_loss: 0.1058 - lr: 0.0010\n",
      "Epoch 248/10000\n",
      "4/4 [==============================] - 0s 22ms/step - loss: 0.1149 - val_loss: 0.1047 - lr: 0.0010\n",
      "Epoch 249/10000\n",
      "4/4 [==============================] - 0s 21ms/step - loss: 0.1136 - val_loss: 0.1022 - lr: 0.0010\n",
      "Epoch 250/10000\n",
      "4/4 [==============================] - 0s 20ms/step - loss: 0.1123 - val_loss: 0.0991 - lr: 0.0010\n",
      "Epoch 251/10000\n",
      "4/4 [==============================] - 0s 21ms/step - loss: 0.1111 - val_loss: 0.0989 - lr: 0.0010\n",
      "Epoch 252/10000\n",
      "4/4 [==============================] - 0s 19ms/step - loss: 0.1098 - val_loss: 0.0980 - lr: 0.0010\n",
      "Epoch 253/10000\n",
      "4/4 [==============================] - 0s 19ms/step - loss: 0.1086 - val_loss: 0.0971 - lr: 0.0010\n",
      "Epoch 254/10000\n",
      "4/4 [==============================] - 0s 19ms/step - loss: 0.1074 - val_loss: 0.0970 - lr: 0.0010\n",
      "Epoch 255/10000\n",
      "4/4 [==============================] - 0s 24ms/step - loss: 0.1062 - val_loss: 0.0956 - lr: 0.0010\n",
      "Epoch 256/10000\n",
      "4/4 [==============================] - 0s 20ms/step - loss: 0.1051 - val_loss: 0.0932 - lr: 0.0010\n",
      "Epoch 257/10000\n",
      "4/4 [==============================] - 0s 19ms/step - loss: 0.1039 - val_loss: 0.0923 - lr: 0.0010\n",
      "Epoch 258/10000\n",
      "4/4 [==============================] - 0s 20ms/step - loss: 0.1028 - val_loss: 0.0916 - lr: 0.0010\n",
      "Epoch 259/10000\n",
      "4/4 [==============================] - 0s 18ms/step - loss: 0.1016 - val_loss: 0.0909 - lr: 0.0010\n",
      "Epoch 260/10000\n",
      "4/4 [==============================] - 0s 20ms/step - loss: 0.1006 - val_loss: 0.0896 - lr: 0.0010\n",
      "Epoch 261/10000\n",
      "4/4 [==============================] - 0s 19ms/step - loss: 0.0994 - val_loss: 0.0866 - lr: 0.0010\n",
      "Epoch 262/10000\n",
      "4/4 [==============================] - 0s 20ms/step - loss: 0.0985 - val_loss: 0.0842 - lr: 0.0010\n",
      "Epoch 263/10000\n",
      "4/4 [==============================] - 0s 20ms/step - loss: 0.0974 - val_loss: 0.0858 - lr: 0.0010\n",
      "Epoch 264/10000\n",
      "4/4 [==============================] - 0s 20ms/step - loss: 0.0962 - val_loss: 0.0859 - lr: 0.0010\n"
     ]
    }
   ],
   "source": [
    "# Use these callbacks during model training\n",
    "history = model.fit(X_train, y_train, epochs=10000,\n",
    "                    callbacks=[early_stopping_val_loss, reduce_lr_val_loss],\n",
    "                    validation_split=0.1, batch_size=512)"
   ]
  }
 ],
 "metadata": {
  "kernelspec": {
   "display_name": "Python 3 (ipykernel)",
   "language": "python",
   "name": "python3"
  },
  "language_info": {
   "codemirror_mode": {
    "name": "ipython",
    "version": 3
   },
   "file_extension": ".py",
   "mimetype": "text/x-python",
   "name": "python",
   "nbconvert_exporter": "python",
   "pygments_lexer": "ipython3",
   "version": "3.10.13"
  }
 },
 "nbformat": 4,
 "nbformat_minor": 5
}
