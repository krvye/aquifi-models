{
 "cells": [
  {
   "cell_type": "markdown",
   "id": "beb5f7724d363ef2",
   "metadata": {
    "collapsed": false,
    "jupyter": {
     "outputs_hidden": false
    }
   },
   "source": [
    "# Tap Water Quality Forecasting"
   ]
  },
  {
   "cell_type": "markdown",
   "id": "ba447d03465df47f",
   "metadata": {
    "collapsed": false,
    "jupyter": {
     "outputs_hidden": false
    }
   },
   "source": [
    "## Import"
   ]
  },
  {
   "cell_type": "markdown",
   "id": "d7fd6cdeae0c33d8",
   "metadata": {
    "collapsed": false,
    "jupyter": {
     "outputs_hidden": false
    }
   },
   "source": [
    "### Libraries"
   ]
  },
  {
   "cell_type": "code",
   "execution_count": 1,
   "id": "initial_id",
   "metadata": {
    "ExecuteTime": {
     "end_time": "2024-02-17T07:30:02.827370700Z",
     "start_time": "2024-02-17T07:29:54.809787Z"
    }
   },
   "outputs": [],
   "source": [
    "import warnings\n",
    "\n",
    "import matplotlib.pyplot as plt\n",
    "import numpy as np\n",
    "import pandas as pd\n",
    "from keras.callbacks import EarlyStopping, ReduceLROnPlateau\n",
    "from keras.layers import LSTM, Bidirectional, Dense, Dropout\n",
    "from keras.models import Sequential\n",
    "from keras.regularizers import l2\n",
    "from sklearn.preprocessing import MinMaxScaler\n",
    "\n",
    "warnings.filterwarnings('ignore')"
   ]
  },
  {
   "cell_type": "markdown",
   "id": "52f7d8f18743951",
   "metadata": {
    "collapsed": false,
    "jupyter": {
     "outputs_hidden": false
    }
   },
   "source": [
    "### Dataset"
   ]
  },
  {
   "cell_type": "code",
   "execution_count": 2,
   "id": "41d5329eaf5246b1",
   "metadata": {
    "ExecuteTime": {
     "end_time": "2024-02-17T07:30:02.963542700Z",
     "start_time": "2024-02-17T07:30:02.830891100Z"
    },
    "collapsed": false,
    "jupyter": {
     "outputs_hidden": false
    }
   },
   "outputs": [
    {
     "data": {
      "text/html": [
       "<div>\n",
       "<style scoped>\n",
       "    .dataframe tbody tr th:only-of-type {\n",
       "        vertical-align: middle;\n",
       "    }\n",
       "\n",
       "    .dataframe tbody tr th {\n",
       "        vertical-align: top;\n",
       "    }\n",
       "\n",
       "    .dataframe thead th {\n",
       "        text-align: right;\n",
       "    }\n",
       "</style>\n",
       "<table border=\"1\" class=\"dataframe\">\n",
       "  <thead>\n",
       "    <tr style=\"text-align: right;\">\n",
       "      <th></th>\n",
       "      <th>pH</th>\n",
       "      <th>Turb</th>\n",
       "    </tr>\n",
       "    <tr>\n",
       "      <th>Time</th>\n",
       "      <th></th>\n",
       "      <th></th>\n",
       "    </tr>\n",
       "  </thead>\n",
       "  <tbody>\n",
       "    <tr>\n",
       "      <th>2017-07-01 00:00:00</th>\n",
       "      <td>8.60774</td>\n",
       "      <td>0.125931</td>\n",
       "    </tr>\n",
       "    <tr>\n",
       "      <th>2017-07-01 00:01:00</th>\n",
       "      <td>8.60589</td>\n",
       "      <td>0.127219</td>\n",
       "    </tr>\n",
       "    <tr>\n",
       "      <th>2017-07-01 00:02:00</th>\n",
       "      <td>8.60220</td>\n",
       "      <td>0.126482</td>\n",
       "    </tr>\n",
       "    <tr>\n",
       "      <th>2017-07-01 00:03:00</th>\n",
       "      <td>8.60220</td>\n",
       "      <td>0.126184</td>\n",
       "    </tr>\n",
       "    <tr>\n",
       "      <th>2017-07-01 00:04:00</th>\n",
       "      <td>8.60405</td>\n",
       "      <td>0.127908</td>\n",
       "    </tr>\n",
       "  </tbody>\n",
       "</table>\n",
       "</div>"
      ],
      "text/plain": [
       "                          pH      Turb\n",
       "Time                                  \n",
       "2017-07-01 00:00:00  8.60774  0.125931\n",
       "2017-07-01 00:01:00  8.60589  0.127219\n",
       "2017-07-01 00:02:00  8.60220  0.126482\n",
       "2017-07-01 00:03:00  8.60220  0.126184\n",
       "2017-07-01 00:04:00  8.60405  0.127908"
      ]
     },
     "execution_count": 2,
     "metadata": {},
     "output_type": "execute_result"
    }
   ],
   "source": [
    "filepath = \"../../gecco_2019_drinking_water_quality_dataset.csv\"\n",
    "raw_df = pd.read_csv(\n",
    "    filepath,\n",
    "    parse_dates=[\"Time\"],\n",
    "    index_col=\"Time\",\n",
    "    usecols=[\"Time\", \"pH\", \"Turb\"],\n",
    ")\n",
    "raw_df.head()"
   ]
  },
  {
   "cell_type": "markdown",
   "id": "b7bd267a2e8915af",
   "metadata": {
    "collapsed": false,
    "jupyter": {
     "outputs_hidden": false
    }
   },
   "source": [
    "## Preprocessing"
   ]
  },
  {
   "cell_type": "markdown",
   "id": "1e35c8a3df4fd61b",
   "metadata": {
    "collapsed": false,
    "jupyter": {
     "outputs_hidden": false
    }
   },
   "source": [
    "### Descriptive Analysis"
   ]
  },
  {
   "cell_type": "code",
   "execution_count": 3,
   "id": "9f4d0c507053ae3",
   "metadata": {
    "ExecuteTime": {
     "end_time": "2024-02-17T07:30:03.008293Z",
     "start_time": "2024-02-17T07:30:02.961543900Z"
    },
    "collapsed": false,
    "jupyter": {
     "outputs_hidden": false
    }
   },
   "outputs": [
    {
     "name": "stdout",
     "output_type": "stream",
     "text": [
      "<class 'pandas.core.frame.DataFrame'>\n",
      "DatetimeIndex: 132480 entries, 2017-07-01 00:00:00 to 2017-09-30 23:59:00\n",
      "Data columns (total 2 columns):\n",
      " #   Column  Non-Null Count   Dtype  \n",
      "---  ------  --------------   -----  \n",
      " 0   pH      132272 non-null  float64\n",
      " 1   Turb    132275 non-null  float64\n",
      "dtypes: float64(2)\n",
      "memory usage: 3.0 MB\n"
     ]
    }
   ],
   "source": [
    "raw_df.info()"
   ]
  },
  {
   "cell_type": "code",
   "execution_count": 4,
   "id": "16c96b492417325a",
   "metadata": {
    "ExecuteTime": {
     "end_time": "2024-02-17T07:30:03.121052500Z",
     "start_time": "2024-02-17T07:30:02.988174Z"
    },
    "collapsed": false,
    "jupyter": {
     "outputs_hidden": false
    }
   },
   "outputs": [
    {
     "data": {
      "text/html": [
       "<div>\n",
       "<style scoped>\n",
       "    .dataframe tbody tr th:only-of-type {\n",
       "        vertical-align: middle;\n",
       "    }\n",
       "\n",
       "    .dataframe tbody tr th {\n",
       "        vertical-align: top;\n",
       "    }\n",
       "\n",
       "    .dataframe thead th {\n",
       "        text-align: right;\n",
       "    }\n",
       "</style>\n",
       "<table border=\"1\" class=\"dataframe\">\n",
       "  <thead>\n",
       "    <tr style=\"text-align: right;\">\n",
       "      <th></th>\n",
       "      <th>pH</th>\n",
       "      <th>Turb</th>\n",
       "    </tr>\n",
       "  </thead>\n",
       "  <tbody>\n",
       "    <tr>\n",
       "      <th>count</th>\n",
       "      <td>132272.000000</td>\n",
       "      <td>132275.000000</td>\n",
       "    </tr>\n",
       "    <tr>\n",
       "      <th>mean</th>\n",
       "      <td>8.533168</td>\n",
       "      <td>0.128368</td>\n",
       "    </tr>\n",
       "    <tr>\n",
       "      <th>std</th>\n",
       "      <td>0.052646</td>\n",
       "      <td>0.005928</td>\n",
       "    </tr>\n",
       "    <tr>\n",
       "      <th>min</th>\n",
       "      <td>0.000000</td>\n",
       "      <td>0.000000</td>\n",
       "    </tr>\n",
       "    <tr>\n",
       "      <th>25%</th>\n",
       "      <td>8.502780</td>\n",
       "      <td>0.127160</td>\n",
       "    </tr>\n",
       "    <tr>\n",
       "      <th>50%</th>\n",
       "      <td>8.539630</td>\n",
       "      <td>0.127754</td>\n",
       "    </tr>\n",
       "    <tr>\n",
       "      <th>75%</th>\n",
       "      <td>8.563490</td>\n",
       "      <td>0.128686</td>\n",
       "    </tr>\n",
       "    <tr>\n",
       "      <th>max</th>\n",
       "      <td>8.666760</td>\n",
       "      <td>1.782850</td>\n",
       "    </tr>\n",
       "  </tbody>\n",
       "</table>\n",
       "</div>"
      ],
      "text/plain": [
       "                  pH           Turb\n",
       "count  132272.000000  132275.000000\n",
       "mean        8.533168       0.128368\n",
       "std         0.052646       0.005928\n",
       "min         0.000000       0.000000\n",
       "25%         8.502780       0.127160\n",
       "50%         8.539630       0.127754\n",
       "75%         8.563490       0.128686\n",
       "max         8.666760       1.782850"
      ]
     },
     "execution_count": 4,
     "metadata": {},
     "output_type": "execute_result"
    }
   ],
   "source": [
    "raw_df.describe()"
   ]
  },
  {
   "cell_type": "code",
   "execution_count": 5,
   "id": "f517678f1ab9d1e8",
   "metadata": {
    "ExecuteTime": {
     "end_time": "2024-02-17T07:30:03.589587700Z",
     "start_time": "2024-02-17T07:30:03.019636800Z"
    },
    "collapsed": false,
    "jupyter": {
     "outputs_hidden": false
    }
   },
   "outputs": [
    {
     "data": {
      "image/png": "[encoded data removed]",
      "text/plain": [
       "<Figure size 800x400 with 2 Axes>"
      ]
     },
     "metadata": {},
     "output_type": "display_data"
    }
   ],
   "source": [
    "ph = raw_df['pH']\n",
    "tb = raw_df['Turb']\n",
    "\n",
    "\n",
    "def line_plot(param, param1):\n",
    "    fig, axes = plt.subplots(1, 2, figsize=(8, 4))\n",
    "\n",
    "    axes[0].plot(param)\n",
    "    axes[0].set_title('pH Level')\n",
    "\n",
    "    axes[1].plot(param1)  # Example: Plotting the same data with a different color\n",
    "    axes[1].set_title('Turbidity Level')\n",
    "\n",
    "    plt.show()\n",
    "\n",
    "\n",
    "line_plot(ph, tb)"
   ]
  },
  {
   "cell_type": "code",
   "execution_count": 6,
   "id": "e06c65ed98c28add",
   "metadata": {
    "ExecuteTime": {
     "end_time": "2024-02-17T07:30:03.695063Z",
     "start_time": "2024-02-17T07:30:03.593595600Z"
    },
    "collapsed": false,
    "jupyter": {
     "outputs_hidden": false
    }
   },
   "outputs": [
    {
     "data": {
      "text/plain": [
       "pH      208\n",
       "Turb    205\n",
       "dtype: int64"
      ]
     },
     "execution_count": 6,
     "metadata": {},
     "output_type": "execute_result"
    }
   ],
   "source": [
    "raw_df.isnull().sum()"
   ]
  },
  {
   "cell_type": "code",
   "execution_count": 7,
   "id": "7f28782a",
   "metadata": {},
   "outputs": [],
   "source": [
    "interpolated_df = raw_df.interpolate(method='time')"
   ]
  },
  {
   "cell_type": "code",
   "execution_count": 8,
   "id": "44aca137",
   "metadata": {},
   "outputs": [
    {
     "data": {
      "text/plain": [
       "pH      0\n",
       "Turb    0\n",
       "dtype: int64"
      ]
     },
     "execution_count": 8,
     "metadata": {},
     "output_type": "execute_result"
    }
   ],
   "source": [
    "interpolated_df.isnull().sum()"
   ]
  },
  {
   "cell_type": "markdown",
   "id": "e7bb4084b4a8dea3",
   "metadata": {
    "collapsed": false,
    "jupyter": {
     "outputs_hidden": false
    }
   },
   "source": [
    "### Treating Outliers"
   ]
  },
  {
   "cell_type": "code",
   "execution_count": 9,
   "id": "ff17cd27e323f6fa",
   "metadata": {
    "ExecuteTime": {
     "end_time": "2024-02-17T07:30:03.697068900Z",
     "start_time": "2024-02-17T07:30:03.622529900Z"
    },
    "collapsed": false,
    "jupyter": {
     "outputs_hidden": false
    }
   },
   "outputs": [
    {
     "data": {
      "text/html": [
       "<div>\n",
       "<style scoped>\n",
       "    .dataframe tbody tr th:only-of-type {\n",
       "        vertical-align: middle;\n",
       "    }\n",
       "\n",
       "    .dataframe tbody tr th {\n",
       "        vertical-align: top;\n",
       "    }\n",
       "\n",
       "    .dataframe thead th {\n",
       "        text-align: right;\n",
       "    }\n",
       "</style>\n",
       "<table border=\"1\" class=\"dataframe\">\n",
       "  <thead>\n",
       "    <tr style=\"text-align: right;\">\n",
       "      <th></th>\n",
       "      <th>pH</th>\n",
       "      <th>Turb</th>\n",
       "    </tr>\n",
       "  </thead>\n",
       "  <tbody>\n",
       "    <tr>\n",
       "      <th>count</th>\n",
       "      <td>132360.000000</td>\n",
       "      <td>132360.000000</td>\n",
       "    </tr>\n",
       "    <tr>\n",
       "      <th>mean</th>\n",
       "      <td>8.533367</td>\n",
       "      <td>0.128357</td>\n",
       "    </tr>\n",
       "    <tr>\n",
       "      <th>std</th>\n",
       "      <td>0.040690</td>\n",
       "      <td>0.003767</td>\n",
       "    </tr>\n",
       "    <tr>\n",
       "      <th>min</th>\n",
       "      <td>8.411880</td>\n",
       "      <td>0.094232</td>\n",
       "    </tr>\n",
       "    <tr>\n",
       "      <th>25%</th>\n",
       "      <td>8.502780</td>\n",
       "      <td>0.127160</td>\n",
       "    </tr>\n",
       "    <tr>\n",
       "      <th>50%</th>\n",
       "      <td>8.539710</td>\n",
       "      <td>0.127753</td>\n",
       "    </tr>\n",
       "    <tr>\n",
       "      <th>75%</th>\n",
       "      <td>8.563490</td>\n",
       "      <td>0.128685</td>\n",
       "    </tr>\n",
       "    <tr>\n",
       "      <th>max</th>\n",
       "      <td>8.653850</td>\n",
       "      <td>0.784440</td>\n",
       "    </tr>\n",
       "  </tbody>\n",
       "</table>\n",
       "</div>"
      ],
      "text/plain": [
       "                  pH           Turb\n",
       "count  132360.000000  132360.000000\n",
       "mean        8.533367       0.128357\n",
       "std         0.040690       0.003767\n",
       "min         8.411880       0.094232\n",
       "25%         8.502780       0.127160\n",
       "50%         8.539710       0.127753\n",
       "75%         8.563490       0.128685\n",
       "max         8.653850       0.784440"
      ]
     },
     "execution_count": 9,
     "metadata": {},
     "output_type": "execute_result"
    }
   ],
   "source": [
    "# IQR method\n",
    "Q1 = interpolated_df[\"pH\"].quantile(0.25)\n",
    "Q3 = interpolated_df[\"pH\"].quantile(0.75)\n",
    "\n",
    "IQR = Q3 - Q1\n",
    "\n",
    "lower = Q1 - 1.5 * IQR\n",
    "upper = Q3 + 1.5 * IQR\n",
    "\n",
    "# Detect outliers using the IQR\n",
    "outliers = (interpolated_df[\"pH\"] < lower) | (interpolated_df[\"pH\"] > upper)\n",
    "\n",
    "# Remove the outliers\n",
    "removed_ph_outliers_df = interpolated_df[~outliers]\n",
    "no_outliers_df = removed_ph_outliers_df[removed_ph_outliers_df[\"Turb\"] <= 1]\n",
    "\n",
    "no_outliers_df.describe()"
   ]
  },
  {
   "cell_type": "code",
   "execution_count": 10,
   "id": "acfa631899166e30",
   "metadata": {
    "ExecuteTime": {
     "end_time": "2024-02-17T07:30:04.251124800Z",
     "start_time": "2024-02-17T07:30:03.673281600Z"
    },
    "collapsed": false,
    "jupyter": {
     "outputs_hidden": false
    }
   },
   "outputs": [
    {
     "data": {
      "image/png": "[encoded data removed]",
      "text/plain": [
       "<Figure size 800x400 with 2 Axes>"
      ]
     },
     "metadata": {},
     "output_type": "display_data"
    }
   ],
   "source": [
    "line_plot(no_outliers_df['pH'], no_outliers_df['Turb'])"
   ]
  },
  {
   "cell_type": "code",
   "execution_count": 11,
   "id": "1422202b",
   "metadata": {},
   "outputs": [
    {
     "name": "stdout",
     "output_type": "stream",
     "text": [
      "<class 'pandas.core.frame.DataFrame'>\n",
      "DatetimeIndex: 2208 entries, 2017-07-01 00:00:00 to 2017-09-30 23:00:00\n",
      "Freq: H\n",
      "Data columns (total 2 columns):\n",
      " #   Column  Non-Null Count  Dtype  \n",
      "---  ------  --------------  -----  \n",
      " 0   pH      2208 non-null   float64\n",
      " 1   Turb    2208 non-null   float64\n",
      "dtypes: float64(2)\n",
      "memory usage: 51.8 KB\n"
     ]
    }
   ],
   "source": [
    "# no_outliers_df.set_index(\"Time\", inplace=True)\n",
    "hourly_df = no_outliers_df.resample(\"H\").mean()\n",
    "hourly_df.info()"
   ]
  },
  {
   "cell_type": "code",
   "execution_count": 12,
   "id": "25ec0412",
   "metadata": {},
   "outputs": [],
   "source": [
    "final_df = hourly_df"
   ]
  },
  {
   "cell_type": "code",
   "execution_count": 13,
   "id": "b054a15c",
   "metadata": {},
   "outputs": [
    {
     "data": {
      "image/png": "[encoded data removed]",
      "text/plain": [
       "<Figure size 800x400 with 2 Axes>"
      ]
     },
     "metadata": {},
     "output_type": "display_data"
    }
   ],
   "source": [
    "line_plot(final_df['pH'], final_df['Turb'])"
   ]
  },
  {
   "cell_type": "markdown",
   "id": "dff49ef9649f11c8",
   "metadata": {
    "collapsed": false,
    "jupyter": {
     "outputs_hidden": false
    }
   },
   "source": [
    "## Preparation"
   ]
  },
  {
   "cell_type": "markdown",
   "id": "cb4881b886f16849",
   "metadata": {
    "collapsed": false,
    "jupyter": {
     "outputs_hidden": false
    }
   },
   "source": [
    "### Train and test split"
   ]
  },
  {
   "cell_type": "code",
   "execution_count": 14,
   "id": "2ad6f906700f00d7",
   "metadata": {
    "ExecuteTime": {
     "end_time": "2024-02-17T07:30:05.434106700Z",
     "start_time": "2024-02-17T07:30:05.352945100Z"
    },
    "collapsed": false,
    "jupyter": {
     "outputs_hidden": false
    }
   },
   "outputs": [],
   "source": [
    "train_size = int(0.8 * len(final_df))\n",
    "train = final_df[:train_size]\n",
    "test = final_df[train_size:]"
   ]
  },
  {
   "cell_type": "markdown",
   "id": "d007d88713669557",
   "metadata": {
    "collapsed": false,
    "jupyter": {
     "outputs_hidden": false
    }
   },
   "source": [
    "### Scaling"
   ]
  },
  {
   "cell_type": "code",
   "execution_count": 15,
   "id": "b442a8951f9c0443",
   "metadata": {
    "ExecuteTime": {
     "end_time": "2024-02-17T07:30:05.509419Z",
     "start_time": "2024-02-17T07:30:05.372102200Z"
    },
    "collapsed": false,
    "jupyter": {
     "outputs_hidden": false
    }
   },
   "outputs": [],
   "source": [
    "scaler = MinMaxScaler()\n",
    "train_scaled = scaler.fit_transform(train)\n",
    "test_scaled = scaler.transform(test)"
   ]
  },
  {
   "cell_type": "markdown",
   "id": "ed3df4e48b1002a2",
   "metadata": {
    "collapsed": false,
    "jupyter": {
     "outputs_hidden": false
    }
   },
   "source": [
    "### Split"
   ]
  },
  {
   "cell_type": "code",
   "execution_count": 16,
   "id": "ce96e558df8599b",
   "metadata": {
    "ExecuteTime": {
     "end_time": "2024-02-17T07:30:05.536494Z",
     "start_time": "2024-02-17T07:30:05.388139200Z"
    },
    "collapsed": false,
    "jupyter": {
     "outputs_hidden": false
    }
   },
   "outputs": [],
   "source": [
    "def split_multivariate_sequence(data, input_steps, output_steps):\n",
    "    X, y = list(), list()\n",
    "\n",
    "    for i in range(len(data)):\n",
    "        # Find the end of the input sequence\n",
    "        input_end_idx = i + input_steps\n",
    "        output_end_idx = input_end_idx + output_steps\n",
    "\n",
    "        # Check if we are beyond the dataset\n",
    "        if output_end_idx > len(data):\n",
    "            break\n",
    "\n",
    "        # Gather input and output parts of the sequence\n",
    "        input_seq, output_seq = data[i:input_end_idx, :], data[input_end_idx:output_end_idx, :]\n",
    "        X.append(input_seq)\n",
    "        y.append(output_seq)\n",
    "\n",
    "    return np.array(X), np.array(y)"
   ]
  },
  {
   "cell_type": "code",
   "execution_count": 17,
   "id": "6e651d765c80665b",
   "metadata": {
    "ExecuteTime": {
     "end_time": "2024-02-17T07:30:05.632637300Z",
     "start_time": "2024-02-17T07:30:05.403565300Z"
    },
    "collapsed": false,
    "jupyter": {
     "outputs_hidden": false
    }
   },
   "outputs": [
    {
     "name": "stdout",
     "output_type": "stream",
     "text": [
      "X Train: (1765, 1, 2) \n",
      "Y Train: (1765, 1, 2)\n",
      "X Test: (441, 1, 2)\n",
      "Y Test: (441, 1, 2)\n"
     ]
    }
   ],
   "source": [
    "# choose a number of time steps\n",
    "n_steps_in, n_steps_out = 1, 1\n",
    "# covert into input/output\n",
    "X_train, y_train = split_multivariate_sequence(train_scaled, n_steps_in, n_steps_out)\n",
    "print(f'X Train: {X_train.shape} \\nY Train: {y_train.shape}')\n",
    "\n",
    "X_test, y_test = split_multivariate_sequence(test_scaled, n_steps_in, n_steps_out)\n",
    "print(f'X Test: {X_test.shape}\\nY Test: {y_test.shape}')"
   ]
  },
  {
   "cell_type": "markdown",
   "id": "af4a5a9ad0df7e9a",
   "metadata": {
    "collapsed": false,
    "jupyter": {
     "outputs_hidden": false
    }
   },
   "source": [
    "## Modeling"
   ]
  },
  {
   "cell_type": "markdown",
   "id": "ab7b3b4f1adfc965",
   "metadata": {
    "collapsed": false,
    "jupyter": {
     "outputs_hidden": false
    }
   },
   "source": [
    "### Defining Model"
   ]
  },
  {
   "cell_type": "code",
   "execution_count": 18,
   "id": "e96654c1e01be850",
   "metadata": {
    "ExecuteTime": {
     "end_time": "2024-02-17T07:30:05.634644100Z",
     "start_time": "2024-02-17T07:30:05.574552900Z"
    },
    "collapsed": false,
    "jupyter": {
     "outputs_hidden": false
    }
   },
   "outputs": [],
   "source": [
    "n_features = X_train.shape[2]"
   ]
  },
  {
   "cell_type": "code",
   "execution_count": 19,
   "id": "ed6457a812287ac",
   "metadata": {
    "ExecuteTime": {
     "end_time": "2024-02-17T07:30:06.737256500Z",
     "start_time": "2024-02-17T07:30:05.591924800Z"
    },
    "collapsed": false,
    "jupyter": {
     "outputs_hidden": false
    }
   },
   "outputs": [
    {
     "name": "stdout",
     "output_type": "stream",
     "text": [
      "WARNING:tensorflow:Layer lstm will not use cuDNN kernels since it doesn't meet the criteria. It will use a generic GPU kernel as fallback when running on GPU.\n",
      "WARNING:tensorflow:Layer lstm will not use cuDNN kernels since it doesn't meet the criteria. It will use a generic GPU kernel as fallback when running on GPU.\n",
      "WARNING:tensorflow:Layer lstm will not use cuDNN kernels since it doesn't meet the criteria. It will use a generic GPU kernel as fallback when running on GPU.\n"
     ]
    }
   ],
   "source": [
    "# define model\n",
    "model = Sequential()\n",
    "model.add(\n",
    "    Bidirectional(LSTM(\n",
    "        128,\n",
    "        activation=\"relu\",\n",
    "        bias_regularizer=l2(0.01),\n",
    "        kernel_regularizer=l2(0.01),\n",
    "        recurrent_regularizer=l2(0.01),\n",
    "        input_shape=(n_steps_in, n_features),\n",
    "    ))\n",
    ")\n",
    "\n",
    "model.add(Dropout(0.2))\n",
    "\n",
    "model.add(Dense(n_features))\n",
    "\n",
    "model.compile(optimizer=\"adam\", loss=\"mse\")\n",
    "model.build((None, n_steps_in, n_features))"
   ]
  },
  {
   "cell_type": "code",
   "execution_count": 20,
   "id": "2996b1df",
   "metadata": {},
   "outputs": [
    {
     "data": {
      "image/png": "[encoded data removed]",
      "text/plain": [
       "<Figure size 640x480 with 1 Axes>"
      ]
     },
     "metadata": {},
     "output_type": "display_data"
    }
   ],
   "source": [
    "# Plot the model architecture\n",
    "from keras.utils import plot_model\n",
    "\n",
    "plot_file = 'model_plot.png'\n",
    "plot_model(model, to_file=plot_file, show_shapes=True, show_layer_names=True)\n",
    "\n",
    "# Display the plot\n",
    "image = plt.imread(plot_file)\n",
    "plt.imshow(image)\n",
    "plt.axis('off')\n",
    "plt.show()"
   ]
  },
  {
   "cell_type": "markdown",
   "id": "5e88b91a00d9f1db",
   "metadata": {
    "collapsed": false,
    "jupyter": {
     "outputs_hidden": false
    }
   },
   "source": [
    "### Fitting Model"
   ]
  },
  {
   "cell_type": "code",
   "execution_count": 21,
   "id": "63877582ca1f80be",
   "metadata": {
    "ExecuteTime": {
     "end_time": "2024-02-17T07:30:06.759447800Z",
     "start_time": "2024-02-17T07:30:06.739250900Z"
    },
    "collapsed": false,
    "jupyter": {
     "outputs_hidden": false
    }
   },
   "outputs": [],
   "source": [
    "# Early stopping based on validation loss\n",
    "early_stopping_val_loss = EarlyStopping(monitor='val_loss', patience=2)\n",
    "\n",
    "# Reduce learning rate based on validation loss\n",
    "reduce_lr_val_loss = ReduceLROnPlateau(monitor='val_loss', patience=3, factor=0.2, min_lr=0.0001)"
   ]
  },
  {
   "cell_type": "code",
   "execution_count": 22,
   "id": "31f6963f3b9bdaff",
   "metadata": {
    "ExecuteTime": {
     "end_time": "2024-02-17T07:31:45.731976200Z",
     "start_time": "2024-02-17T07:30:06.759447800Z"
    },
    "collapsed": false,
    "jupyter": {
     "outputs_hidden": false
    }
   },
   "outputs": [
    {
     "name": "stdout",
     "output_type": "stream",
     "text": [
      "Epoch 1/10000\n",
      "4/4 [==============================] - 6s 169ms/step - loss: 5.2346 - val_loss: 5.0074 - lr: 0.0010\n",
      "Epoch 2/10000\n",
      "4/4 [==============================] - 0s 26ms/step - loss: 4.8575 - val_loss: 4.6563 - lr: 0.0010\n",
      "Epoch 3/10000\n",
      "4/4 [==============================] - 0s 32ms/step - loss: 4.5224 - val_loss: 4.3451 - lr: 0.0010\n",
      "Epoch 4/10000\n",
      "4/4 [==============================] - 0s 33ms/step - loss: 4.2262 - val_loss: 4.0707 - lr: 0.0010\n",
      "Epoch 5/10000\n",
      "4/4 [==============================] - 0s 33ms/step - loss: 3.9661 - val_loss: 3.8296 - lr: 0.0010\n",
      "Epoch 6/10000\n",
      "4/4 [==============================] - 0s 28ms/step - loss: 3.7379 - val_loss: 3.6179 - lr: 0.0010\n",
      "Epoch 7/10000\n",
      "4/4 [==============================] - 0s 31ms/step - loss: 3.5384 - val_loss: 3.4322 - lr: 0.0010\n",
      "Epoch 8/10000\n",
      "4/4 [==============================] - 0s 28ms/step - loss: 3.3638 - val_loss: 3.2692 - lr: 0.0010\n",
      "Epoch 9/10000\n",
      "4/4 [==============================] - 0s 35ms/step - loss: 3.2110 - val_loss: 3.1258 - lr: 0.0010\n",
      "Epoch 10/10000\n",
      "4/4 [==============================] - 0s 29ms/step - loss: 3.0776 - val_loss: 3.0000 - lr: 0.0010\n",
      "Epoch 11/10000\n",
      "4/4 [==============================] - 0s 28ms/step - loss: 2.9605 - val_loss: 2.8894 - lr: 0.0010\n",
      "Epoch 12/10000\n",
      "4/4 [==============================] - 0s 29ms/step - loss: 2.8579 - val_loss: 2.7919 - lr: 0.0010\n",
      "Epoch 13/10000\n",
      "4/4 [==============================] - 0s 30ms/step - loss: 2.7678 - val_loss: 2.7059 - lr: 0.0010\n",
      "Epoch 14/10000\n",
      "4/4 [==============================] - 0s 34ms/step - loss: 2.6883 - val_loss: 2.6300 - lr: 0.0010\n",
      "Epoch 15/10000\n",
      "4/4 [==============================] - 0s 26ms/step - loss: 2.6181 - val_loss: 2.5629 - lr: 0.0010\n",
      "Epoch 16/10000\n",
      "4/4 [==============================] - 0s 32ms/step - loss: 2.5557 - val_loss: 2.5034 - lr: 0.0010\n",
      "Epoch 17/10000\n",
      "4/4 [==============================] - 0s 27ms/step - loss: 2.5000 - val_loss: 2.4503 - lr: 0.0010\n",
      "Epoch 18/10000\n",
      "4/4 [==============================] - 0s 33ms/step - loss: 2.4499 - val_loss: 2.4026 - lr: 0.0010\n",
      "Epoch 19/10000\n",
      "4/4 [==============================] - 0s 51ms/step - loss: 2.4044 - val_loss: 2.3595 - lr: 0.0010\n",
      "Epoch 20/10000\n",
      "4/4 [==============================] - 0s 44ms/step - loss: 2.3628 - val_loss: 2.3203 - lr: 0.0010\n",
      "Epoch 21/10000\n",
      "4/4 [==============================] - 0s 44ms/step - loss: 2.3245 - val_loss: 2.2844 - lr: 0.0010\n",
      "Epoch 22/10000\n",
      "4/4 [==============================] - 0s 25ms/step - loss: 2.2892 - val_loss: 2.2515 - lr: 0.0010\n",
      "Epoch 23/10000\n",
      "4/4 [==============================] - 0s 37ms/step - loss: 2.2564 - val_loss: 2.2209 - lr: 0.0010\n",
      "Epoch 24/10000\n",
      "4/4 [==============================] - 0s 22ms/step - loss: 2.2257 - val_loss: 2.1919 - lr: 0.0010\n",
      "Epoch 25/10000\n",
      "4/4 [==============================] - 0s 24ms/step - loss: 2.1969 - val_loss: 2.1644 - lr: 0.0010\n",
      "Epoch 26/10000\n",
      "4/4 [==============================] - 0s 23ms/step - loss: 2.1696 - val_loss: 2.1385 - lr: 0.0010\n",
      "Epoch 27/10000\n",
      "4/4 [==============================] - 0s 24ms/step - loss: 2.1438 - val_loss: 2.1136 - lr: 0.0010\n",
      "Epoch 28/10000\n",
      "4/4 [==============================] - 0s 22ms/step - loss: 2.1193 - val_loss: 2.0897 - lr: 0.0010\n",
      "Epoch 29/10000\n",
      "4/4 [==============================] - 0s 24ms/step - loss: 2.0957 - val_loss: 2.0667 - lr: 0.0010\n",
      "Epoch 30/10000\n",
      "4/4 [==============================] - 0s 21ms/step - loss: 2.0731 - val_loss: 2.0448 - lr: 0.0010\n",
      "Epoch 31/10000\n",
      "4/4 [==============================] - 0s 24ms/step - loss: 2.0513 - val_loss: 2.0237 - lr: 0.0010\n",
      "Epoch 32/10000\n",
      "4/4 [==============================] - 0s 23ms/step - loss: 2.0302 - val_loss: 2.0035 - lr: 0.0010\n",
      "Epoch 33/10000\n",
      "4/4 [==============================] - 0s 23ms/step - loss: 2.0098 - val_loss: 1.9833 - lr: 0.0010\n",
      "Epoch 34/10000\n",
      "4/4 [==============================] - 0s 24ms/step - loss: 1.9899 - val_loss: 1.9636 - lr: 0.0010\n",
      "Epoch 35/10000\n",
      "4/4 [==============================] - 0s 24ms/step - loss: 1.9706 - val_loss: 1.9446 - lr: 0.0010\n",
      "Epoch 36/10000\n",
      "4/4 [==============================] - 0s 22ms/step - loss: 1.9516 - val_loss: 1.9258 - lr: 0.0010\n",
      "Epoch 37/10000\n",
      "4/4 [==============================] - 0s 21ms/step - loss: 1.9331 - val_loss: 1.9074 - lr: 0.0010\n",
      "Epoch 38/10000\n",
      "4/4 [==============================] - 0s 25ms/step - loss: 1.9150 - val_loss: 1.8897 - lr: 0.0010\n",
      "Epoch 39/10000\n",
      "4/4 [==============================] - 0s 19ms/step - loss: 1.8971 - val_loss: 1.8725 - lr: 0.0010\n",
      "Epoch 40/10000\n",
      "4/4 [==============================] - 0s 21ms/step - loss: 1.8795 - val_loss: 1.8553 - lr: 0.0010\n",
      "Epoch 41/10000\n",
      "4/4 [==============================] - 0s 21ms/step - loss: 1.8623 - val_loss: 1.8381 - lr: 0.0010\n",
      "Epoch 42/10000\n",
      "4/4 [==============================] - 0s 22ms/step - loss: 1.8453 - val_loss: 1.8214 - lr: 0.0010\n",
      "Epoch 43/10000\n",
      "4/4 [==============================] - 0s 21ms/step - loss: 1.8285 - val_loss: 1.8046 - lr: 0.0010\n",
      "Epoch 44/10000\n",
      "4/4 [==============================] - 0s 22ms/step - loss: 1.8120 - val_loss: 1.7883 - lr: 0.0010\n",
      "Epoch 45/10000\n",
      "4/4 [==============================] - 0s 22ms/step - loss: 1.7956 - val_loss: 1.7723 - lr: 0.0010\n",
      "Epoch 46/10000\n",
      "4/4 [==============================] - 0s 25ms/step - loss: 1.7794 - val_loss: 1.7562 - lr: 0.0010\n",
      "Epoch 47/10000\n",
      "4/4 [==============================] - 0s 24ms/step - loss: 1.7634 - val_loss: 1.7402 - lr: 0.0010\n",
      "Epoch 48/10000\n",
      "4/4 [==============================] - 0s 23ms/step - loss: 1.7475 - val_loss: 1.7242 - lr: 0.0010\n",
      "Epoch 49/10000\n",
      "4/4 [==============================] - 0s 24ms/step - loss: 1.7319 - val_loss: 1.7083 - lr: 0.0010\n",
      "Epoch 50/10000\n",
      "4/4 [==============================] - 0s 22ms/step - loss: 1.7164 - val_loss: 1.6926 - lr: 0.0010\n",
      "Epoch 51/10000\n",
      "4/4 [==============================] - 0s 22ms/step - loss: 1.7010 - val_loss: 1.6774 - lr: 0.0010\n",
      "Epoch 52/10000\n",
      "4/4 [==============================] - 0s 24ms/step - loss: 1.6858 - val_loss: 1.6633 - lr: 0.0010\n",
      "Epoch 53/10000\n",
      "4/4 [==============================] - 0s 27ms/step - loss: 1.6706 - val_loss: 1.6488 - lr: 0.0010\n",
      "Epoch 54/10000\n",
      "4/4 [==============================] - 0s 24ms/step - loss: 1.6556 - val_loss: 1.6341 - lr: 0.0010\n",
      "Epoch 55/10000\n",
      "4/4 [==============================] - 0s 24ms/step - loss: 1.6407 - val_loss: 1.6187 - lr: 0.0010\n",
      "Epoch 56/10000\n",
      "4/4 [==============================] - 0s 32ms/step - loss: 1.6261 - val_loss: 1.6039 - lr: 0.0010\n",
      "Epoch 57/10000\n",
      "4/4 [==============================] - 0s 26ms/step - loss: 1.6114 - val_loss: 1.5890 - lr: 0.0010\n",
      "Epoch 58/10000\n",
      "4/4 [==============================] - 0s 24ms/step - loss: 1.5969 - val_loss: 1.5748 - lr: 0.0010\n",
      "Epoch 59/10000\n",
      "4/4 [==============================] - 0s 23ms/step - loss: 1.5826 - val_loss: 1.5612 - lr: 0.0010\n",
      "Epoch 60/10000\n",
      "4/4 [==============================] - 0s 25ms/step - loss: 1.5683 - val_loss: 1.5472 - lr: 0.0010\n",
      "Epoch 61/10000\n",
      "4/4 [==============================] - 0s 34ms/step - loss: 1.5541 - val_loss: 1.5332 - lr: 0.0010\n",
      "Epoch 62/10000\n",
      "4/4 [==============================] - 0s 34ms/step - loss: 1.5401 - val_loss: 1.5198 - lr: 0.0010\n",
      "Epoch 63/10000\n",
      "4/4 [==============================] - 0s 26ms/step - loss: 1.5261 - val_loss: 1.5059 - lr: 0.0010\n",
      "Epoch 64/10000\n",
      "4/4 [==============================] - 0s 27ms/step - loss: 1.5123 - val_loss: 1.4922 - lr: 0.0010\n",
      "Epoch 65/10000\n",
      "4/4 [==============================] - 0s 23ms/step - loss: 1.4985 - val_loss: 1.4780 - lr: 0.0010\n",
      "Epoch 66/10000\n",
      "4/4 [==============================] - 0s 25ms/step - loss: 1.4849 - val_loss: 1.4639 - lr: 0.0010\n",
      "Epoch 67/10000\n",
      "4/4 [==============================] - 0s 23ms/step - loss: 1.4713 - val_loss: 1.4505 - lr: 0.0010\n",
      "Epoch 68/10000\n",
      "4/4 [==============================] - 0s 22ms/step - loss: 1.4579 - val_loss: 1.4377 - lr: 0.0010\n",
      "Epoch 69/10000\n",
      "4/4 [==============================] - 0s 21ms/step - loss: 1.4446 - val_loss: 1.4240 - lr: 0.0010\n",
      "Epoch 70/10000\n",
      "4/4 [==============================] - 0s 24ms/step - loss: 1.4313 - val_loss: 1.4109 - lr: 0.0010\n",
      "Epoch 71/10000\n",
      "4/4 [==============================] - 0s 23ms/step - loss: 1.4182 - val_loss: 1.3981 - lr: 0.0010\n",
      "Epoch 72/10000\n",
      "4/4 [==============================] - 0s 22ms/step - loss: 1.4051 - val_loss: 1.3851 - lr: 0.0010\n",
      "Epoch 73/10000\n",
      "4/4 [==============================] - 0s 22ms/step - loss: 1.3922 - val_loss: 1.3725 - lr: 0.0010\n",
      "Epoch 74/10000\n",
      "4/4 [==============================] - 0s 25ms/step - loss: 1.3793 - val_loss: 1.3592 - lr: 0.0010\n",
      "Epoch 75/10000\n",
      "4/4 [==============================] - 0s 23ms/step - loss: 1.3665 - val_loss: 1.3464 - lr: 0.0010\n",
      "Epoch 76/10000\n",
      "4/4 [==============================] - 0s 23ms/step - loss: 1.3539 - val_loss: 1.3334 - lr: 0.0010\n",
      "Epoch 77/10000\n",
      "4/4 [==============================] - 0s 26ms/step - loss: 1.3413 - val_loss: 1.3224 - lr: 0.0010\n",
      "Epoch 78/10000\n",
      "4/4 [==============================] - 0s 32ms/step - loss: 1.3289 - val_loss: 1.3099 - lr: 0.0010\n",
      "Epoch 79/10000\n",
      "4/4 [==============================] - 0s 25ms/step - loss: 1.3165 - val_loss: 1.2962 - lr: 0.0010\n",
      "Epoch 80/10000\n",
      "4/4 [==============================] - 0s 38ms/step - loss: 1.3041 - val_loss: 1.2850 - lr: 0.0010\n",
      "Epoch 81/10000\n",
      "4/4 [==============================] - 0s 24ms/step - loss: 1.2919 - val_loss: 1.2736 - lr: 0.0010\n",
      "Epoch 82/10000\n",
      "4/4 [==============================] - 0s 24ms/step - loss: 1.2798 - val_loss: 1.2608 - lr: 0.0010\n",
      "Epoch 83/10000\n",
      "4/4 [==============================] - 0s 24ms/step - loss: 1.2678 - val_loss: 1.2472 - lr: 0.0010\n",
      "Epoch 84/10000\n",
      "4/4 [==============================] - 0s 25ms/step - loss: 1.2559 - val_loss: 1.2349 - lr: 0.0010\n",
      "Epoch 85/10000\n",
      "4/4 [==============================] - 0s 30ms/step - loss: 1.2441 - val_loss: 1.2231 - lr: 0.0010\n",
      "Epoch 86/10000\n",
      "4/4 [==============================] - 0s 34ms/step - loss: 1.2322 - val_loss: 1.2129 - lr: 0.0010\n",
      "Epoch 87/10000\n",
      "4/4 [==============================] - 0s 24ms/step - loss: 1.2206 - val_loss: 1.2033 - lr: 0.0010\n",
      "Epoch 88/10000\n",
      "4/4 [==============================] - 0s 29ms/step - loss: 1.2090 - val_loss: 1.1911 - lr: 0.0010\n",
      "Epoch 89/10000\n",
      "4/4 [==============================] - 0s 24ms/step - loss: 1.1975 - val_loss: 1.1786 - lr: 0.0010\n",
      "Epoch 90/10000\n",
      "4/4 [==============================] - 0s 26ms/step - loss: 1.1861 - val_loss: 1.1665 - lr: 0.0010\n",
      "Epoch 91/10000\n",
      "4/4 [==============================] - 0s 29ms/step - loss: 1.1747 - val_loss: 1.1561 - lr: 0.0010\n",
      "Epoch 92/10000\n",
      "4/4 [==============================] - 0s 21ms/step - loss: 1.1635 - val_loss: 1.1454 - lr: 0.0010\n",
      "Epoch 93/10000\n",
      "4/4 [==============================] - 0s 26ms/step - loss: 1.1523 - val_loss: 1.1343 - lr: 0.0010\n",
      "Epoch 94/10000\n",
      "4/4 [==============================] - 0s 24ms/step - loss: 1.1413 - val_loss: 1.1221 - lr: 0.0010\n",
      "Epoch 95/10000\n",
      "4/4 [==============================] - 0s 23ms/step - loss: 1.1303 - val_loss: 1.1105 - lr: 0.0010\n",
      "Epoch 96/10000\n",
      "4/4 [==============================] - 0s 27ms/step - loss: 1.1194 - val_loss: 1.1007 - lr: 0.0010\n",
      "Epoch 97/10000\n",
      "4/4 [==============================] - 0s 25ms/step - loss: 1.1085 - val_loss: 1.0912 - lr: 0.0010\n",
      "Epoch 98/10000\n",
      "4/4 [==============================] - 0s 28ms/step - loss: 1.0978 - val_loss: 1.0808 - lr: 0.0010\n",
      "Epoch 99/10000\n",
      "4/4 [==============================] - 0s 22ms/step - loss: 1.0871 - val_loss: 1.0690 - lr: 0.0010\n",
      "Epoch 100/10000\n",
      "4/4 [==============================] - 0s 29ms/step - loss: 1.0766 - val_loss: 1.0588 - lr: 0.0010\n",
      "Epoch 101/10000\n",
      "4/4 [==============================] - 0s 29ms/step - loss: 1.0661 - val_loss: 1.0472 - lr: 0.0010\n",
      "Epoch 102/10000\n",
      "4/4 [==============================] - 0s 30ms/step - loss: 1.0557 - val_loss: 1.0356 - lr: 0.0010\n",
      "Epoch 103/10000\n",
      "4/4 [==============================] - 0s 30ms/step - loss: 1.0454 - val_loss: 1.0268 - lr: 0.0010\n",
      "Epoch 104/10000\n",
      "4/4 [==============================] - 0s 55ms/step - loss: 1.0351 - val_loss: 1.0178 - lr: 0.0010\n",
      "Epoch 105/10000\n",
      "4/4 [==============================] - 0s 35ms/step - loss: 1.0249 - val_loss: 1.0068 - lr: 0.0010\n",
      "Epoch 106/10000\n",
      "4/4 [==============================] - 0s 30ms/step - loss: 1.0148 - val_loss: 0.9957 - lr: 0.0010\n",
      "Epoch 107/10000\n",
      "4/4 [==============================] - 0s 29ms/step - loss: 1.0049 - val_loss: 0.9866 - lr: 0.0010\n",
      "Epoch 108/10000\n",
      "4/4 [==============================] - 0s 25ms/step - loss: 0.9949 - val_loss: 0.9785 - lr: 0.0010\n",
      "Epoch 109/10000\n",
      "4/4 [==============================] - 0s 31ms/step - loss: 0.9851 - val_loss: 0.9675 - lr: 0.0010\n",
      "Epoch 110/10000\n",
      "4/4 [==============================] - 0s 28ms/step - loss: 0.9753 - val_loss: 0.9574 - lr: 0.0010\n",
      "Epoch 111/10000\n",
      "4/4 [==============================] - 0s 31ms/step - loss: 0.9656 - val_loss: 0.9485 - lr: 0.0010\n",
      "Epoch 112/10000\n",
      "4/4 [==============================] - 0s 25ms/step - loss: 0.9559 - val_loss: 0.9386 - lr: 0.0010\n",
      "Epoch 113/10000\n",
      "4/4 [==============================] - 0s 27ms/step - loss: 0.9464 - val_loss: 0.9284 - lr: 0.0010\n",
      "Epoch 114/10000\n",
      "4/4 [==============================] - 0s 26ms/step - loss: 0.9370 - val_loss: 0.9172 - lr: 0.0010\n",
      "Epoch 115/10000\n",
      "4/4 [==============================] - 0s 26ms/step - loss: 0.9277 - val_loss: 0.9089 - lr: 0.0010\n",
      "Epoch 116/10000\n",
      "4/4 [==============================] - 0s 26ms/step - loss: 0.9183 - val_loss: 0.9024 - lr: 0.0010\n",
      "Epoch 117/10000\n",
      "4/4 [==============================] - 0s 27ms/step - loss: 0.9091 - val_loss: 0.8920 - lr: 0.0010\n",
      "Epoch 118/10000\n",
      "4/4 [==============================] - 0s 22ms/step - loss: 0.8998 - val_loss: 0.8817 - lr: 0.0010\n",
      "Epoch 119/10000\n",
      "4/4 [==============================] - 0s 28ms/step - loss: 0.8907 - val_loss: 0.8728 - lr: 0.0010\n",
      "Epoch 120/10000\n",
      "4/4 [==============================] - 0s 32ms/step - loss: 0.8817 - val_loss: 0.8651 - lr: 0.0010\n",
      "Epoch 121/10000\n",
      "4/4 [==============================] - 0s 27ms/step - loss: 0.8727 - val_loss: 0.8554 - lr: 0.0010\n",
      "Epoch 122/10000\n",
      "4/4 [==============================] - 0s 31ms/step - loss: 0.8639 - val_loss: 0.8454 - lr: 0.0010\n",
      "Epoch 123/10000\n",
      "4/4 [==============================] - 0s 33ms/step - loss: 0.8551 - val_loss: 0.8378 - lr: 0.0010\n",
      "Epoch 124/10000\n",
      "4/4 [==============================] - 0s 45ms/step - loss: 0.8464 - val_loss: 0.8304 - lr: 0.0010\n",
      "Epoch 125/10000\n",
      "4/4 [==============================] - 0s 33ms/step - loss: 0.8377 - val_loss: 0.8204 - lr: 0.0010\n",
      "Epoch 126/10000\n",
      "4/4 [==============================] - 0s 36ms/step - loss: 0.8291 - val_loss: 0.8119 - lr: 0.0010\n",
      "Epoch 127/10000\n",
      "4/4 [==============================] - 0s 26ms/step - loss: 0.8206 - val_loss: 0.8050 - lr: 0.0010\n",
      "Epoch 128/10000\n",
      "4/4 [==============================] - 0s 29ms/step - loss: 0.8122 - val_loss: 0.7964 - lr: 0.0010\n",
      "Epoch 129/10000\n",
      "4/4 [==============================] - 0s 35ms/step - loss: 0.8038 - val_loss: 0.7874 - lr: 0.0010\n",
      "Epoch 130/10000\n",
      "4/4 [==============================] - 0s 23ms/step - loss: 0.7954 - val_loss: 0.7772 - lr: 0.0010\n",
      "Epoch 131/10000\n",
      "4/4 [==============================] - 0s 29ms/step - loss: 0.7874 - val_loss: 0.7683 - lr: 0.0010\n",
      "Epoch 132/10000\n",
      "4/4 [==============================] - 0s 27ms/step - loss: 0.7791 - val_loss: 0.7645 - lr: 0.0010\n",
      "Epoch 133/10000\n",
      "4/4 [==============================] - 0s 26ms/step - loss: 0.7711 - val_loss: 0.7573 - lr: 0.0010\n",
      "Epoch 134/10000\n",
      "4/4 [==============================] - 0s 24ms/step - loss: 0.7631 - val_loss: 0.7461 - lr: 0.0010\n",
      "Epoch 135/10000\n",
      "4/4 [==============================] - 0s 27ms/step - loss: 0.7550 - val_loss: 0.7372 - lr: 0.0010\n",
      "Epoch 136/10000\n",
      "4/4 [==============================] - 0s 26ms/step - loss: 0.7471 - val_loss: 0.7308 - lr: 0.0010\n",
      "Epoch 137/10000\n",
      "4/4 [==============================] - 0s 34ms/step - loss: 0.7393 - val_loss: 0.7241 - lr: 0.0010\n",
      "Epoch 138/10000\n",
      "4/4 [==============================] - 0s 36ms/step - loss: 0.7315 - val_loss: 0.7145 - lr: 0.0010\n",
      "Epoch 139/10000\n",
      "4/4 [==============================] - 0s 24ms/step - loss: 0.7238 - val_loss: 0.7056 - lr: 0.0010\n",
      "Epoch 140/10000\n",
      "4/4 [==============================] - 0s 25ms/step - loss: 0.7162 - val_loss: 0.6991 - lr: 0.0010\n",
      "Epoch 141/10000\n",
      "4/4 [==============================] - 0s 36ms/step - loss: 0.7086 - val_loss: 0.6925 - lr: 0.0010\n",
      "Epoch 142/10000\n",
      "4/4 [==============================] - 0s 27ms/step - loss: 0.7011 - val_loss: 0.6855 - lr: 0.0010\n",
      "Epoch 143/10000\n",
      "4/4 [==============================] - 0s 26ms/step - loss: 0.6937 - val_loss: 0.6774 - lr: 0.0010\n",
      "Epoch 144/10000\n",
      "4/4 [==============================] - 0s 23ms/step - loss: 0.6863 - val_loss: 0.6697 - lr: 0.0010\n",
      "Epoch 145/10000\n",
      "4/4 [==============================] - 0s 23ms/step - loss: 0.6790 - val_loss: 0.6636 - lr: 0.0010\n",
      "Epoch 146/10000\n",
      "4/4 [==============================] - 0s 28ms/step - loss: 0.6718 - val_loss: 0.6565 - lr: 0.0010\n",
      "Epoch 147/10000\n",
      "4/4 [==============================] - 0s 29ms/step - loss: 0.6646 - val_loss: 0.6489 - lr: 0.0010\n",
      "Epoch 148/10000\n",
      "4/4 [==============================] - 0s 37ms/step - loss: 0.6575 - val_loss: 0.6403 - lr: 0.0010\n",
      "Epoch 149/10000\n",
      "4/4 [==============================] - 0s 33ms/step - loss: 0.6505 - val_loss: 0.6338 - lr: 0.0010\n",
      "Epoch 150/10000\n",
      "4/4 [==============================] - 0s 38ms/step - loss: 0.6435 - val_loss: 0.6271 - lr: 0.0010\n",
      "Epoch 151/10000\n",
      "4/4 [==============================] - 0s 40ms/step - loss: 0.6365 - val_loss: 0.6209 - lr: 0.0010\n",
      "Epoch 152/10000\n",
      "4/4 [==============================] - 0s 39ms/step - loss: 0.6297 - val_loss: 0.6146 - lr: 0.0010\n",
      "Epoch 153/10000\n",
      "4/4 [==============================] - 0s 35ms/step - loss: 0.6229 - val_loss: 0.6085 - lr: 0.0010\n",
      "Epoch 154/10000\n",
      "4/4 [==============================] - 0s 34ms/step - loss: 0.6161 - val_loss: 0.6007 - lr: 0.0010\n",
      "Epoch 155/10000\n",
      "4/4 [==============================] - 0s 28ms/step - loss: 0.6094 - val_loss: 0.5939 - lr: 0.0010\n",
      "Epoch 156/10000\n",
      "4/4 [==============================] - 0s 26ms/step - loss: 0.6028 - val_loss: 0.5872 - lr: 0.0010\n",
      "Epoch 157/10000\n",
      "4/4 [==============================] - 0s 22ms/step - loss: 0.5962 - val_loss: 0.5819 - lr: 0.0010\n",
      "Epoch 158/10000\n",
      "4/4 [==============================] - 0s 24ms/step - loss: 0.5897 - val_loss: 0.5741 - lr: 0.0010\n",
      "Epoch 159/10000\n",
      "4/4 [==============================] - 0s 35ms/step - loss: 0.5833 - val_loss: 0.5679 - lr: 0.0010\n",
      "Epoch 160/10000\n",
      "4/4 [==============================] - 0s 25ms/step - loss: 0.5769 - val_loss: 0.5609 - lr: 0.0010\n",
      "Epoch 161/10000\n",
      "4/4 [==============================] - 0s 25ms/step - loss: 0.5705 - val_loss: 0.5552 - lr: 0.0010\n",
      "Epoch 162/10000\n",
      "4/4 [==============================] - 0s 24ms/step - loss: 0.5643 - val_loss: 0.5514 - lr: 0.0010\n",
      "Epoch 163/10000\n",
      "4/4 [==============================] - 0s 21ms/step - loss: 0.5581 - val_loss: 0.5440 - lr: 0.0010\n",
      "Epoch 164/10000\n",
      "4/4 [==============================] - 0s 22ms/step - loss: 0.5519 - val_loss: 0.5367 - lr: 0.0010\n",
      "Epoch 165/10000\n",
      "4/4 [==============================] - 0s 22ms/step - loss: 0.5458 - val_loss: 0.5311 - lr: 0.0010\n",
      "Epoch 166/10000\n",
      "4/4 [==============================] - 0s 20ms/step - loss: 0.5398 - val_loss: 0.5263 - lr: 0.0010\n",
      "Epoch 167/10000\n",
      "4/4 [==============================] - 0s 21ms/step - loss: 0.5338 - val_loss: 0.5204 - lr: 0.0010\n",
      "Epoch 168/10000\n",
      "4/4 [==============================] - 0s 21ms/step - loss: 0.5279 - val_loss: 0.5141 - lr: 0.0010\n",
      "Epoch 169/10000\n",
      "4/4 [==============================] - 0s 25ms/step - loss: 0.5220 - val_loss: 0.5071 - lr: 0.0010\n",
      "Epoch 170/10000\n",
      "4/4 [==============================] - 0s 23ms/step - loss: 0.5161 - val_loss: 0.4997 - lr: 0.0010\n",
      "Epoch 171/10000\n",
      "4/4 [==============================] - 0s 25ms/step - loss: 0.5104 - val_loss: 0.4957 - lr: 0.0010\n",
      "Epoch 172/10000\n",
      "4/4 [==============================] - 0s 20ms/step - loss: 0.5046 - val_loss: 0.4907 - lr: 0.0010\n",
      "Epoch 173/10000\n",
      "4/4 [==============================] - 0s 20ms/step - loss: 0.4990 - val_loss: 0.4838 - lr: 0.0010\n",
      "Epoch 174/10000\n",
      "4/4 [==============================] - 0s 21ms/step - loss: 0.4934 - val_loss: 0.4769 - lr: 0.0010\n",
      "Epoch 175/10000\n",
      "4/4 [==============================] - 0s 21ms/step - loss: 0.4878 - val_loss: 0.4733 - lr: 0.0010\n",
      "Epoch 176/10000\n",
      "4/4 [==============================] - 0s 20ms/step - loss: 0.4823 - val_loss: 0.4689 - lr: 0.0010\n",
      "Epoch 177/10000\n",
      "4/4 [==============================] - 0s 22ms/step - loss: 0.4768 - val_loss: 0.4630 - lr: 0.0010\n",
      "Epoch 178/10000\n",
      "4/4 [==============================] - 0s 35ms/step - loss: 0.4715 - val_loss: 0.4581 - lr: 0.0010\n",
      "Epoch 179/10000\n",
      "4/4 [==============================] - 0s 21ms/step - loss: 0.4661 - val_loss: 0.4507 - lr: 0.0010\n",
      "Epoch 180/10000\n",
      "4/4 [==============================] - 0s 20ms/step - loss: 0.4608 - val_loss: 0.4450 - lr: 0.0010\n",
      "Epoch 181/10000\n",
      "4/4 [==============================] - 0s 20ms/step - loss: 0.4556 - val_loss: 0.4423 - lr: 0.0010\n",
      "Epoch 182/10000\n",
      "4/4 [==============================] - 0s 19ms/step - loss: 0.4504 - val_loss: 0.4356 - lr: 0.0010\n",
      "Epoch 183/10000\n",
      "4/4 [==============================] - 0s 19ms/step - loss: 0.4453 - val_loss: 0.4274 - lr: 0.0010\n",
      "Epoch 184/10000\n",
      "4/4 [==============================] - 0s 20ms/step - loss: 0.4403 - val_loss: 0.4253 - lr: 0.0010\n",
      "Epoch 185/10000\n",
      "4/4 [==============================] - 0s 21ms/step - loss: 0.4351 - val_loss: 0.4241 - lr: 0.0010\n",
      "Epoch 186/10000\n",
      "4/4 [==============================] - 0s 21ms/step - loss: 0.4303 - val_loss: 0.4177 - lr: 0.0010\n",
      "Epoch 187/10000\n",
      "4/4 [==============================] - 0s 23ms/step - loss: 0.4252 - val_loss: 0.4086 - lr: 0.0010\n",
      "Epoch 188/10000\n",
      "4/4 [==============================] - 0s 21ms/step - loss: 0.4203 - val_loss: 0.4049 - lr: 0.0010\n",
      "Epoch 189/10000\n",
      "4/4 [==============================] - 0s 20ms/step - loss: 0.4154 - val_loss: 0.4022 - lr: 0.0010\n",
      "Epoch 190/10000\n",
      "4/4 [==============================] - 0s 25ms/step - loss: 0.4106 - val_loss: 0.3983 - lr: 0.0010\n",
      "Epoch 191/10000\n",
      "4/4 [==============================] - 0s 22ms/step - loss: 0.4059 - val_loss: 0.3914 - lr: 0.0010\n",
      "Epoch 192/10000\n",
      "4/4 [==============================] - 0s 23ms/step - loss: 0.4011 - val_loss: 0.3865 - lr: 0.0010\n",
      "Epoch 193/10000\n",
      "4/4 [==============================] - 0s 21ms/step - loss: 0.3965 - val_loss: 0.3838 - lr: 0.0010\n",
      "Epoch 194/10000\n",
      "4/4 [==============================] - 0s 22ms/step - loss: 0.3918 - val_loss: 0.3783 - lr: 0.0010\n",
      "Epoch 195/10000\n",
      "4/4 [==============================] - 0s 22ms/step - loss: 0.3873 - val_loss: 0.3731 - lr: 0.0010\n",
      "Epoch 196/10000\n",
      "4/4 [==============================] - 0s 30ms/step - loss: 0.3827 - val_loss: 0.3677 - lr: 0.0010\n",
      "Epoch 197/10000\n",
      "4/4 [==============================] - 0s 23ms/step - loss: 0.3783 - val_loss: 0.3628 - lr: 0.0010\n",
      "Epoch 198/10000\n",
      "4/4 [==============================] - 0s 20ms/step - loss: 0.3738 - val_loss: 0.3612 - lr: 0.0010\n",
      "Epoch 199/10000\n",
      "4/4 [==============================] - 0s 20ms/step - loss: 0.3696 - val_loss: 0.3586 - lr: 0.0010\n",
      "Epoch 200/10000\n",
      "4/4 [==============================] - 0s 23ms/step - loss: 0.3652 - val_loss: 0.3511 - lr: 0.0010\n",
      "Epoch 201/10000\n",
      "4/4 [==============================] - 0s 22ms/step - loss: 0.3608 - val_loss: 0.3457 - lr: 0.0010\n",
      "Epoch 202/10000\n",
      "4/4 [==============================] - 0s 19ms/step - loss: 0.3565 - val_loss: 0.3441 - lr: 0.0010\n",
      "Epoch 203/10000\n",
      "4/4 [==============================] - 0s 21ms/step - loss: 0.3524 - val_loss: 0.3407 - lr: 0.0010\n",
      "Epoch 204/10000\n",
      "4/4 [==============================] - 0s 25ms/step - loss: 0.3482 - val_loss: 0.3335 - lr: 0.0010\n",
      "Epoch 205/10000\n",
      "4/4 [==============================] - 0s 22ms/step - loss: 0.3441 - val_loss: 0.3283 - lr: 0.0010\n",
      "Epoch 206/10000\n",
      "4/4 [==============================] - 0s 20ms/step - loss: 0.3400 - val_loss: 0.3266 - lr: 0.0010\n",
      "Epoch 207/10000\n",
      "4/4 [==============================] - 0s 23ms/step - loss: 0.3359 - val_loss: 0.3211 - lr: 0.0010\n",
      "Epoch 208/10000\n",
      "4/4 [==============================] - 0s 26ms/step - loss: 0.3319 - val_loss: 0.3167 - lr: 0.0010\n",
      "Epoch 209/10000\n",
      "4/4 [==============================] - 0s 25ms/step - loss: 0.3280 - val_loss: 0.3144 - lr: 0.0010\n",
      "Epoch 210/10000\n",
      "4/4 [==============================] - 0s 25ms/step - loss: 0.3240 - val_loss: 0.3095 - lr: 0.0010\n",
      "Epoch 211/10000\n",
      "4/4 [==============================] - 0s 24ms/step - loss: 0.3202 - val_loss: 0.3057 - lr: 0.0010\n",
      "Epoch 212/10000\n",
      "4/4 [==============================] - 0s 23ms/step - loss: 0.3164 - val_loss: 0.3032 - lr: 0.0010\n",
      "Epoch 213/10000\n",
      "4/4 [==============================] - 0s 23ms/step - loss: 0.3125 - val_loss: 0.2991 - lr: 0.0010\n",
      "Epoch 214/10000\n",
      "4/4 [==============================] - 0s 29ms/step - loss: 0.3088 - val_loss: 0.2968 - lr: 0.0010\n",
      "Epoch 215/10000\n",
      "4/4 [==============================] - 0s 26ms/step - loss: 0.3052 - val_loss: 0.2949 - lr: 0.0010\n",
      "Epoch 216/10000\n",
      "4/4 [==============================] - 0s 27ms/step - loss: 0.3016 - val_loss: 0.2887 - lr: 0.0010\n",
      "Epoch 217/10000\n",
      "4/4 [==============================] - 0s 24ms/step - loss: 0.2978 - val_loss: 0.2826 - lr: 0.0010\n",
      "Epoch 218/10000\n",
      "4/4 [==============================] - 0s 24ms/step - loss: 0.2943 - val_loss: 0.2795 - lr: 0.0010\n",
      "Epoch 219/10000\n",
      "4/4 [==============================] - 0s 24ms/step - loss: 0.2907 - val_loss: 0.2785 - lr: 0.0010\n",
      "Epoch 220/10000\n",
      "4/4 [==============================] - 0s 25ms/step - loss: 0.2872 - val_loss: 0.2745 - lr: 0.0010\n",
      "Epoch 221/10000\n",
      "4/4 [==============================] - 0s 23ms/step - loss: 0.2836 - val_loss: 0.2703 - lr: 0.0010\n",
      "Epoch 222/10000\n",
      "4/4 [==============================] - 0s 24ms/step - loss: 0.2802 - val_loss: 0.2673 - lr: 0.0010\n",
      "Epoch 223/10000\n",
      "4/4 [==============================] - 0s 23ms/step - loss: 0.2768 - val_loss: 0.2629 - lr: 0.0010\n",
      "Epoch 224/10000\n",
      "4/4 [==============================] - 0s 25ms/step - loss: 0.2734 - val_loss: 0.2590 - lr: 0.0010\n",
      "Epoch 225/10000\n",
      "4/4 [==============================] - 0s 23ms/step - loss: 0.2701 - val_loss: 0.2591 - lr: 0.0010\n",
      "Epoch 226/10000\n",
      "4/4 [==============================] - 0s 27ms/step - loss: 0.2670 - val_loss: 0.2564 - lr: 0.0010\n",
      "Epoch 227/10000\n",
      "4/4 [==============================] - 0s 34ms/step - loss: 0.2636 - val_loss: 0.2506 - lr: 0.0010\n",
      "Epoch 228/10000\n",
      "4/4 [==============================] - 0s 22ms/step - loss: 0.2603 - val_loss: 0.2477 - lr: 0.0010\n",
      "Epoch 229/10000\n",
      "4/4 [==============================] - 0s 24ms/step - loss: 0.2571 - val_loss: 0.2443 - lr: 0.0010\n",
      "Epoch 230/10000\n",
      "4/4 [==============================] - 0s 26ms/step - loss: 0.2540 - val_loss: 0.2403 - lr: 0.0010\n",
      "Epoch 231/10000\n",
      "4/4 [==============================] - 0s 29ms/step - loss: 0.2509 - val_loss: 0.2386 - lr: 0.0010\n",
      "Epoch 232/10000\n",
      "4/4 [==============================] - 0s 25ms/step - loss: 0.2478 - val_loss: 0.2365 - lr: 0.0010\n",
      "Epoch 233/10000\n",
      "4/4 [==============================] - 0s 24ms/step - loss: 0.2448 - val_loss: 0.2323 - lr: 0.0010\n",
      "Epoch 234/10000\n",
      "4/4 [==============================] - 0s 24ms/step - loss: 0.2417 - val_loss: 0.2269 - lr: 0.0010\n",
      "Epoch 235/10000\n",
      "4/4 [==============================] - 0s 24ms/step - loss: 0.2388 - val_loss: 0.2248 - lr: 0.0010\n",
      "Epoch 236/10000\n",
      "4/4 [==============================] - 0s 29ms/step - loss: 0.2358 - val_loss: 0.2243 - lr: 0.0010\n",
      "Epoch 237/10000\n",
      "4/4 [==============================] - 0s 25ms/step - loss: 0.2329 - val_loss: 0.2204 - lr: 0.0010\n",
      "Epoch 238/10000\n",
      "4/4 [==============================] - 0s 22ms/step - loss: 0.2300 - val_loss: 0.2167 - lr: 0.0010\n",
      "Epoch 239/10000\n",
      "4/4 [==============================] - 0s 23ms/step - loss: 0.2272 - val_loss: 0.2134 - lr: 0.0010\n",
      "Epoch 240/10000\n",
      "4/4 [==============================] - 0s 24ms/step - loss: 0.2244 - val_loss: 0.2108 - lr: 0.0010\n",
      "Epoch 241/10000\n",
      "4/4 [==============================] - 0s 23ms/step - loss: 0.2216 - val_loss: 0.2090 - lr: 0.0010\n",
      "Epoch 242/10000\n",
      "4/4 [==============================] - 0s 23ms/step - loss: 0.2188 - val_loss: 0.2058 - lr: 0.0010\n",
      "Epoch 243/10000\n",
      "4/4 [==============================] - 0s 25ms/step - loss: 0.2161 - val_loss: 0.2042 - lr: 0.0010\n",
      "Epoch 244/10000\n",
      "4/4 [==============================] - 0s 23ms/step - loss: 0.2134 - val_loss: 0.2012 - lr: 0.0010\n",
      "Epoch 245/10000\n",
      "4/4 [==============================] - 0s 23ms/step - loss: 0.2108 - val_loss: 0.1994 - lr: 0.0010\n",
      "Epoch 246/10000\n",
      "4/4 [==============================] - 0s 30ms/step - loss: 0.2082 - val_loss: 0.1966 - lr: 0.0010\n",
      "Epoch 247/10000\n",
      "4/4 [==============================] - 0s 24ms/step - loss: 0.2056 - val_loss: 0.1929 - lr: 0.0010\n",
      "Epoch 248/10000\n",
      "4/4 [==============================] - 0s 22ms/step - loss: 0.2030 - val_loss: 0.1903 - lr: 0.0010\n",
      "Epoch 249/10000\n",
      "4/4 [==============================] - 0s 23ms/step - loss: 0.2005 - val_loss: 0.1898 - lr: 0.0010\n",
      "Epoch 250/10000\n",
      "4/4 [==============================] - 0s 23ms/step - loss: 0.1980 - val_loss: 0.1866 - lr: 0.0010\n",
      "Epoch 251/10000\n",
      "4/4 [==============================] - 0s 24ms/step - loss: 0.1955 - val_loss: 0.1830 - lr: 0.0010\n",
      "Epoch 252/10000\n",
      "4/4 [==============================] - 0s 22ms/step - loss: 0.1930 - val_loss: 0.1801 - lr: 0.0010\n",
      "Epoch 253/10000\n",
      "4/4 [==============================] - 0s 25ms/step - loss: 0.1907 - val_loss: 0.1775 - lr: 0.0010\n",
      "Epoch 254/10000\n",
      "4/4 [==============================] - 0s 23ms/step - loss: 0.1883 - val_loss: 0.1798 - lr: 0.0010\n",
      "Epoch 255/10000\n",
      "4/4 [==============================] - 0s 23ms/step - loss: 0.1862 - val_loss: 0.1760 - lr: 0.0010\n",
      "Epoch 256/10000\n",
      "4/4 [==============================] - 0s 23ms/step - loss: 0.1836 - val_loss: 0.1713 - lr: 0.0010\n",
      "Epoch 257/10000\n",
      "4/4 [==============================] - 0s 24ms/step - loss: 0.1813 - val_loss: 0.1695 - lr: 0.0010\n",
      "Epoch 258/10000\n",
      "4/4 [==============================] - 0s 27ms/step - loss: 0.1790 - val_loss: 0.1658 - lr: 0.0010\n",
      "Epoch 259/10000\n",
      "4/4 [==============================] - 0s 27ms/step - loss: 0.1768 - val_loss: 0.1628 - lr: 0.0010\n",
      "Epoch 260/10000\n",
      "4/4 [==============================] - 0s 23ms/step - loss: 0.1746 - val_loss: 0.1595 - lr: 0.0010\n",
      "Epoch 261/10000\n",
      "4/4 [==============================] - 0s 24ms/step - loss: 0.1725 - val_loss: 0.1583 - lr: 0.0010\n",
      "Epoch 262/10000\n",
      "4/4 [==============================] - 0s 24ms/step - loss: 0.1702 - val_loss: 0.1615 - lr: 0.0010\n",
      "Epoch 263/10000\n",
      "4/4 [==============================] - 0s 35ms/step - loss: 0.1684 - val_loss: 0.1583 - lr: 0.0010\n"
     ]
    }
   ],
   "source": [
    "# Use these callbacks during model training\n",
    "history = model.fit(X_train, y_train, epochs=10000,\n",
    "                    callbacks=[early_stopping_val_loss, reduce_lr_val_loss],\n",
    "                    validation_split=0.1, batch_size=512)"
   ]
  }
 ],
 "metadata": {
  "kernelspec": {
   "display_name": "Python 3 (ipykernel)",
   "language": "python",
   "name": "python3"
  },
  "language_info": {
   "codemirror_mode": {
    "name": "ipython",
    "version": 3
   },
   "file_extension": ".py",
   "mimetype": "text/x-python",
   "name": "python",
   "nbconvert_exporter": "python",
   "pygments_lexer": "ipython3",
   "version": "3.10.13"
  }
 },
 "nbformat": 4,
 "nbformat_minor": 5
}
